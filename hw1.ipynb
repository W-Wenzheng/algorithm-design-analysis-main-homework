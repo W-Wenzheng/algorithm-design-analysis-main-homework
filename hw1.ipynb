{
 "cells": [
  {
   "cell_type": "markdown",
   "metadata": {},
   "source": [
    "## algorithm design and anlysis-2025 spring  homework 1 \n",
    "**Deadline**：2025.5.14\n",
    "\n",
    "**name**:\n",
    "\n",
    "\n",
    "note：\n",
    "---\n",
    "1. 带有\\*的题目，申请免上课的同学，必须完成，其他同学选作；\n",
    "2. 请独立完成，如求助了他人或者大模型，请著明，并且不可省略算法分析部分；\n",
    "4. 如若作答有雷同，全部取消成绩；\n",
    "3. 需要书面作答的题目，可以通过引用图片的形式添加，但是注意上传项目时包含所引用的图片的源文件；\n",
    "4. $log_n$ 默认表示$log_2{n}$;"
   ]
  },
  {
   "cell_type": "markdown",
   "metadata": {},
   "source": [
    "## 问题 1\n",
    "\n",
    "对于下面的每一对表达式(A, B), A是否能表示为B的 $\\Theta, \\Omega ,O$形式. 请注意, 这些关系中的零个、一个或多个可能成立。列出所有正确的。经常发生一些学生会,把指示写错, 所以请把关系写完整, 例如: $A = O(B),  A =\\Theta(B)$, 或$A = \\Omega(B)$。\n",
    "\n",
    "1. $A=n^2-100n, B=n^2$\n",
    "2. $A=logn, B=log_{1.2}n$\n",
    "3. $A=3^{2n}, B=2^{4n}$\n",
    "4. $A=2^{logn}, B=n$\n",
    "5. $A=\\log{\\log}{n},B=10^{10^{100}}$"
   ]
  },
  {
   "cell_type": "markdown",
   "metadata": {},
   "source": [
    "can refer a handwritten picture, pleas upload the picture in /fig/xxx.png\n",
    "answer:\n",
    "<div style=\"text-align:center;\"> <img src=\"./fig/hw1q1.jpg\" width=\"800\"/> </div>"
   ]
  },
  {
   "cell_type": "markdown",
   "metadata": {},
   "source": [
    "## 问题 2：\n",
    "\n",
    "假设有函数 $f$ 和 $g$ 使得 $f(n)$ = $O(g(n))$ 对于下面的每一个陈述, 请判断对错, 如果正确请给出证明, 否则请给出一个反例。\n",
    "\n",
    "1. $\\log{f(n)}$ = $O(\\log(1+g(n)))$\n",
    "2. $3^{f(n)}=O(3^{g(n)})$\n",
    "3. $(f(n))^2=O((g(n))^2)$ "
   ]
  },
  {
   "cell_type": "markdown",
   "metadata": {},
   "source": [
    "you can refer a handwritten picture, pleas upload the picture in /fig/xxx.png\n",
    "answer:<div style=\"text-align:center;\"> <img src=\"./fig/hw1q2.jpg\" width=\"800\"/> </div>"
   ]
  },
  {
   "cell_type": "markdown",
   "metadata": {},
   "source": [
    "## 问题 3\n",
    "\n",
    "根据下列递归公式, 计算下列 $T(n)$ 对应的的渐近上界。要求所求的边界尽可能的紧（tight）, 请写明步骤。\n",
    "\n",
    "1. $T(1)=1; T(n)=T(n/4)+1$ for $n>1$\n",
    "2. $T(1)=1;T(n)=3T(n/3)+n^2$ for $n>1$\n",
    "3. $T(1)=1;T(n)=T(2n/3)+1$ for $n>1$\n",
    "4. $T(1)=1;T(n)=5T(n/4)+n$ for $n>1$\n",
    "5. $T(n)=1 \\ for\\ n \\le 2 ; T(n)=T(\\sqrt{n})+1 \\ for \\ n>2$"
   ]
  },
  {
   "cell_type": "markdown",
   "metadata": {},
   "source": [
    "can refer a handwritten picture, pleas upload the picture in /fig/xxx.png\n",
    "answer:<div style=\"text-align:center;\"> <img src=\"./fig/hw1q3.jpg\" width=\"800\"/> </div>"
   ]
  },
  {
   "cell_type": "markdown",
   "metadata": {},
   "source": [
    "## 问题 4：\n",
    "\n",
    "给定一个包含n个元素的数组 `profits` , 它的第 `i` 个元素 `profits[i]` 表示一支股票第 `i` 天的**收益**（正数表示涨, 负数表示跌）。你只能选择 **某一天** 买入这只股票, 并选择在 **未来的某一个不同的日子** 卖出该股票。\n",
    "\n",
    "1. 设计一个算法来计算你所能获取的最大利润和对应买入和卖出的日期。请分析算法方案, 计算其时间复杂度, 并且使用python编程实现该算法。\n",
    "\n",
    "2. \\* 设计一个时间复杂度为 $O(n)$的算法实现该算法\n",
    "\n",
    "e.g. :\n",
    "---\n",
    "profits=[3,2,1,-7,5,2,-1,3,-1], 第5天买入, 第8天卖出, 收益最大：9\n",
    "\n"
   ]
  },
  {
   "cell_type": "markdown",
   "metadata": {},
   "source": [
    "idea:\n",
    "利润计算为卖出日与买入日之间的收益总和。因此，我们需要找到一个连续的子数组，其和最大，且子数组的结束日期在买入日期之后。使用 Kadane算法 来寻找最大子数组和。该算法在遍历数组时，动态维护当前子数组的和，并记录最大和及其对应的起始和结束索引。"
   ]
  },
  {
   "cell_type": "code",
   "metadata": {
    "ExecuteTime": {
     "end_time": "2025-05-13T06:07:49.071399Z",
     "start_time": "2025-05-13T06:07:49.064957Z"
    }
   },
   "source": [
    "# add your code\n",
    "def max_profit_days(profits):\n",
    "    # 处理空列表情况\n",
    "    if not profits:\n",
    "        return 0, 0, 0  \n",
    "    \n",
    "    max_current = max_so_far = profits[0]\n",
    "    start = 0\n",
    "    end = 0\n",
    "    current_start = 0\n",
    "    \n",
    "    # 遍历利润数组（从第二个元素开始）\n",
    "    for i in range(1, len(profits)):\n",
    "        # 判断是否应该开始新的子数组：\n",
    "        # 如果当前子数组和加上当前元素比当前元素本身大，则继续扩展当前子数组\n",
    "        # 否则，以当前元素作为新子数组的开始\n",
    "        if max_current + profits[i] > profits[i]:\n",
    "            max_current += profits[i]\n",
    "        else:\n",
    "            max_current = profits[i]\n",
    "            current_start = i\n",
    "        \n",
    "        # 更新全局最大值和对应的起止索引\n",
    "        if max_current > max_so_far:\n",
    "            max_so_far = max_current\n",
    "            start = current_start\n",
    "            end = i\n",
    "    \n",
    "    # 将索引转换为日期（假设日期从1开始）\n",
    "    buy_day = start + 1\n",
    "    sell_day = end + 1\n",
    "    return max_so_far, buy_day, sell_day\n",
    "\n",
    "if __name__ == \"__main__\":\n",
    "    profits = [3, 2, 1, -7, 5, 2, -1, 3, -1]\n",
    "    max_profit, buy, sell = max_profit_days(profits)\n",
    "    print(f\"最大利润：{max_profit}, 买入日期：{buy}, 卖出日期：{sell}\")\n",
    "\n"
   ],
   "outputs": [
    {
     "name": "stdout",
     "output_type": "stream",
     "text": [
      "最大利润：9, 买入日期：5, 卖出日期：8\n"
     ]
    }
   ],
   "execution_count": 24
  },
  {
   "cell_type": "code",
   "execution_count": null,
   "metadata": {},
   "outputs": [],
   "source": [
    "# an algorithm with O(n)"
   ]
  },
  {
   "cell_type": "markdown",
   "metadata": {},
   "source": [
    "## 问题 5：\n",
    "\n",
    "观察下方的分治算法（divide-and-conquer algorithm）的伪代码, 回答下面问题\n",
    "\n",
    "```latex\n",
    "DoSomething(A,p,r)\n",
    "-----\n",
    "n := r-p+1\n",
    "if n=2 and A[p]>A[r] then\n",
    "    swap A[p] and A[r]\n",
    "else if n >= 3 then\n",
    "    m = ceil(2n/3)\n",
    "    DoSomething(A,p,p+m-1)\n",
    "    DoSomething(A,r-m+1,r)\n",
    "    DoSomething(A,p,p+m-1)  \n",
    "    \n",
    "---\n",
    "first call: DoSomething(A,1,n)\n",
    "```\n",
    "\n",
    "note：$ceil(2n/3)=\\left\\lceil {2n/3} \\right\\rceil$；$:=$ 表示赋值, 等价于 $\\to$；A是一个包含n的整数元素的数组, \n",
    "\n",
    "1. 写出该算法时间复杂度的递归公式, 并求解其对应的渐进表示\n",
    "2. 描述一下该算法的功能, 并判断是否是最高效的解决方案\n",
    "3. 使用python编程实现上述算法或其对应的更高效版本的算法\n"
   ]
  },
  {
   "cell_type": "markdown",
   "metadata": {},
   "source": [
    "idea：<div style=\"text-align:center;\"> <img src=\"./fig/hw1q5.jpg\" width=\"800\"/> </div>\n",
    "\n"
   ]
  },
  {
   "metadata": {},
   "cell_type": "markdown",
   "source": "idea：该算法通过递归分治的方式对数组进行排序：当子数组长度为 2 且元素逆序时交换，否则若长度 ≥ 3，则依次递归排序前 2/3、后 2/3，再次排序前 2/3，从而保证整体有序；其时间复杂度为 $O(n^{\\log_{3/2}3})\\approx O(n^{2.7095})$，远高于常见的 $O(n\\log n)$ 排序算法，因此功能虽可实现排序，但效率较低，不适合大规模数据处理。\n"
  },
  {
   "cell_type": "markdown",
   "metadata": {},
   "source": [
    "answer:"
   ]
  },
  {
   "cell_type": "code",
   "metadata": {
    "ExecuteTime": {
     "end_time": "2025-05-13T05:24:46.529240Z",
     "start_time": "2025-05-13T05:24:46.523182Z"
    }
   },
   "source": [
    "# add your code here\n",
    "import math\n",
    "from typing import List\n",
    "# 使用 Stooge Sort 对数组进行排序\n",
    "def stooge_sort(arr: List[int], left: int = 0, right: int = None) -> List[int]:\n",
    "\n",
    "    # 初始化右边界\n",
    "    if right is None:\n",
    "        right = len(arr) - 1\n",
    "\n",
    "    # 参数检查（只在最初调用时执行）\n",
    "    if left == 0 and right == len(arr) - 1:\n",
    "        if not isinstance(arr, list) or not all(isinstance(x, int) for x in arr):\n",
    "            raise ValueError(\"输入必须为整数数组\")\n",
    "\n",
    "    # 区间长度\n",
    "    n = right - left + 1\n",
    "\n",
    "    # 两个元素时直接交换\n",
    "    if n == 2:\n",
    "        if arr[left] > arr[right]:\n",
    "            arr[left], arr[right] = arr[right], arr[left]\n",
    "    # 三个及以上时使用 Stooge Sort 递归\n",
    "    elif n >= 3:\n",
    "        m = math.ceil(2 * n / 3)\n",
    "        # 对前 2/3 区间递归排序\n",
    "        stooge_sort(arr, left, left + m - 1)\n",
    "        # 对后 2/3 区间递归排序\n",
    "        stooge_sort(arr, right - m + 1, right)\n",
    "        # 再对前 2/3 区间排序一次\n",
    "        stooge_sort(arr, left, left + m - 1)\n",
    "\n",
    "    return arr\n",
    "\n",
    "if __name__ == \"__main__\":\n",
    "    arr = [3, 2, 1, -7, 5, 2, -1, 3, -1]\n",
    "    print(\"原始数组:\", arr)\n",
    "    stooge_sort(arr)\n",
    "    print(\"排序结果:\", arr)\n",
    "\n",
    "\n",
    "# your algorithm time complexity is : 时间复杂度为  O(n^{\\log_{3/2} 3}"
   ],
   "outputs": [
    {
     "name": "stdout",
     "output_type": "stream",
     "text": [
      "原始数组: [3, 2, 1, -7, 5, 2, -1, 3, -1]\n",
      "排序结果: [-7, -1, -1, 1, 2, 2, 3, 3, 5]\n"
     ]
    }
   ],
   "execution_count": 21
  },
  {
   "cell_type": "markdown",
   "metadata": {},
   "source": [
    "## 问题 6：\n",
    "\n",
    "给定一个大小为 `n` 的数组 `nums` , 返回其中的多数元素。多数元素是指在数组中出现次数 **大于** `⌊ n/2 ⌋` 的元素。\n",
    "\n",
    "你可以假设数组是非空的, 并且给定的数组总是存在多数元素。\n",
    "\n",
    "1. 设计一个算法找到给定数组的多数元素, 分析算法设计思路, 计算算法时间复杂度, 使用python编程实现\n",
    "2. \\* 设计时间复杂度为 O(n)、空间复杂度为 O(1) 的算法解决此问题, 分析算法设计思路, 使用python编程实现\n",
    "\n",
    "e.g.:\n",
    "---\n",
    "1. nums=[3,2,3], 返回3\n",
    "2. nums=[2,2,1,1,1,2,2], 返回2\n"
   ]
  },
  {
   "cell_type": "markdown",
   "metadata": {},
   "source": [
    "idea：\n",
    "遍历数组，使用哈希表记录每个元素的出现次数。最后遍历哈希表，找到出现次数超过 ⌊n/2⌋ 的元素。"
   ]
  },
  {
   "cell_type": "code",
   "metadata": {
    "ExecuteTime": {
     "end_time": "2025-05-13T04:56:03.825872Z",
     "start_time": "2025-05-13T04:56:03.820546Z"
    }
   },
   "source": [
    "# add your code here\n",
    "from typing import List, Dict\n",
    "# 使用哈希表查找数组中出现次数超过一半的元素\n",
    "def majority_element_hash(nums: List[int]) -> int:\n",
    " \n",
    "    if not nums:\n",
    "        raise ValueError(\"输入数组不能为空\")\n",
    "    if not all(isinstance(x, int) for x in nums):\n",
    "        raise ValueError(\"数组必须只包含整数\")\n",
    "\n",
    "    count: Dict[int, int] = {}\n",
    "    n = len(nums)\n",
    "\n",
    "    # 统计每个元素出现的次数\n",
    "    for num in nums:\n",
    "        count[num] = count.get(num, 0) + 1\n",
    "\n",
    "    # 查找是否有元素出现次数超过 n // 2\n",
    "    for key, val in count.items():\n",
    "        if val > n // 2:\n",
    "            return key\n",
    "\n",
    "    return -1  # 没有多数元素\n",
    "\n",
    "if __name__ == \"__main__\":\n",
    "    print(\"示例 1：\", majority_element_hash([3, 2, 3]))           \n",
    "    print(\"示例 2：\", majority_element_hash([2, 2, 1, 1, 1, 2, 2])) \n",
    "\n",
    "# your algorithm time complexity is :O(n)"
   ],
   "outputs": [
    {
     "name": "stdout",
     "output_type": "stream",
     "text": [
      "3\n",
      "2\n"
     ]
    }
   ],
   "execution_count": 11
  },
  {
   "cell_type": "markdown",
   "metadata": {},
   "source": [
    "idea for 2\\*："
   ]
  },
  {
   "cell_type": "code",
   "execution_count": null,
   "metadata": {},
   "outputs": [],
   "source": [
    "# algorithm time complexity：O(n), space complexity:O(1)\n",
    "# add your code here"
   ]
  },
  {
   "cell_type": "markdown",
   "metadata": {},
   "source": [
    "## 问题 7：\n",
    "\n",
    "给定一个包含不同整数元素的数组 $ A[1..n]$ ,并且满足条件：$A[1]>A[2]$ 并且 $A[n-1]<A[n]$; 规定：如果一个元素比它两边的邻居元素都小, 即：$A[x]<A[x-1], A[x]<A[x+1]$ , 称这个元素A[x]为“局部最小”。通过遍历一次数组, 我们可以很容易在 $O(n)$的时间复杂度下找到一个局部最小值, \n",
    "\n",
    "\n",
    "1. 分析该问题, 设计一个算法在$O(logn)$的时间复杂度下找到一个局部最小(返回数值), 要求：分析算法设计思路, 并且使用python编程实现\n",
    "2. \\* 设计算法找出所有局部最小值, 分析算法设计思路, 并使用python编程实现\n",
    "\n",
    "e.g.:\n",
    "---\n",
    "A=[9, 3, 7, 2, 1, 4, 5 ] 时,  局部最小元素为 3, 1\n"
   ]
  },
  {
   "cell_type": "markdown",
   "metadata": {},
   "source": [
    "idea：\n",
    "利用数组左端递减、右端递增的特性，可采用二分查找高效寻找局部最小值：每次计算中间位置 mid，若 A[mid] 小于左右邻居，则其为局部最小值，直接返回；否则根据较小的邻居方向缩小搜索区间，若左邻居更小则向左半区查找，若右邻居更小则向右半区查找。通过不断将搜索区间减半，最终可在对数时间内定位局部最小元素。\n",
    "\n"
   ]
  },
  {
   "cell_type": "code",
   "metadata": {
    "ExecuteTime": {
     "end_time": "2025-05-13T05:21:50.781255Z",
     "start_time": "2025-05-13T05:21:50.774524Z"
    }
   },
   "source": [
    "# add your code here\n",
    "from typing import List\n",
    "# 在数组中查找一个局部最小值（比左右相邻元素小）\n",
    "def find_local_minimum(arr: List[int]) -> int:\n",
    "\n",
    "    n = len(arr)\n",
    "    \n",
    "    # 参数检查\n",
    "    if not arr:\n",
    "        raise ValueError(\"输入数组不能为空\")\n",
    "    if not all(isinstance(x, int) for x in arr):\n",
    "        raise ValueError(\"数组必须仅包含整数\")\n",
    "    \n",
    "    left, right = 0, n - 1\n",
    "\n",
    "    # 二分查找局部最小值\n",
    "    while left <= right:\n",
    "        mid = (left + right) // 2\n",
    "        \n",
    "        # 判断是否是局部最小：小于左边且小于右边（边界情况单独处理）\n",
    "        is_left_smaller = (mid == 0) or (arr[mid] < arr[mid - 1])\n",
    "        is_right_smaller = (mid == n - 1) or (arr[mid] < arr[mid + 1])\n",
    "\n",
    "        if is_left_smaller and is_right_smaller:\n",
    "            return arr[mid]  # 找到局部最小值\n",
    "        elif mid > 0 and arr[mid - 1] < arr[mid]:\n",
    "            right = mid - 1  # 局部最小可能在左边\n",
    "        else:\n",
    "            left = mid + 1   # 局部最小可能在右边\n",
    "\n",
    "    return -1  # 理论上不应该到达这里，除非输入非法\n",
    "\n",
    "if __name__ == \"__main__\":\n",
    "    A1 = [9, 3, 7, 2, 1, 4, 5]\n",
    "    result = find_local_minimum(A1)\n",
    "    print(f\"数组中的一个局部最小值是: {result}\")\n",
    "\n",
    "\n",
    "# your algorithm time complexity is : O(log n)"
   ],
   "outputs": [
    {
     "name": "stdout",
     "output_type": "stream",
     "text": [
      "数组中的一个局部最小值是: 1\n"
     ]
    }
   ],
   "execution_count": 20
  },
  {
   "cell_type": "markdown",
   "metadata": {},
   "source": [
    "idea:"
   ]
  },
  {
   "cell_type": "code",
   "execution_count": null,
   "metadata": {},
   "outputs": [],
   "source": [
    "# add your code here\n",
    "# your algorithm time complexity is :"
   ]
  },
  {
   "cell_type": "markdown",
   "metadata": {},
   "source": [
    "## 问题 8：\n",
    "\n",
    "给定包含n个不同数字的一组数, 寻找一种基于比较的算法在这组数中找到k个最小的数字, 并按顺序输出它们。\n",
    "\n",
    "1. 将n个数先进行排序, 然后按顺序输出最小的k个数。要求：选择合适的排序算法实现上述操作, 计算算法时间复杂度, 并使用python编程实现。\n",
    "2. 建立一个包含这n个数的堆（heap）, 并且调用 k 次Extract-min 按顺序输出最小的k个数。使用往空堆中不断插入元素的方法建立堆, 分析这种方法建堆的时间复杂度, 并使用python编程实现\n",
    "3. \\* 假设数组中包含的数据总数目超过了计算机的存储能力, 请设计一个算法, 找到这堆数据的前k小的数值, 计算时间复杂度, 并使用python实现该算法, 假设计算机一定能存储k个数据。\n",
    "\n",
    "e.g.：\n",
    "---\n",
    "数组arr=[5,4,3,2,6,1,88,33,22,107] 的前3个最小数据为：1, 2, 3\n"
   ]
  },
  {
   "cell_type": "markdown",
   "metadata": {},
   "source": "idea：将数组排序后直接取前k个元素。选择Python内置的Timsort算法，保证排序效率。"
  },
  {
   "cell_type": "code",
   "metadata": {
    "ExecuteTime": {
     "end_time": "2025-05-13T05:19:14.030946Z",
     "start_time": "2025-05-13T05:19:14.025356Z"
    }
   },
   "source": [
    "# add your code here\n",
    "from typing import List\n",
    "\n",
    "def find_k_smallest_sort(arr: List[int], k: int) -> List[int]:\n",
    "\n",
    "    # 参数检查\n",
    "    if not isinstance(arr, list) or not all(isinstance(x, int) for x in arr):\n",
    "        raise ValueError(\"arr 必须是整数列表\")\n",
    "    if not isinstance(k, int) or k < 0:\n",
    "        raise ValueError(\"k 必须是非负整数\")\n",
    "    if k > len(arr):\n",
    "        raise ValueError(\"k 不能大于数组长度\")\n",
    "\n",
    "    # 对数组进行排序后取前 k 个最小元素\n",
    "    arr_sorted = sorted(arr)\n",
    "    return arr_sorted[:k]\n",
    "\n",
    "if __name__ == \"__main__\":\n",
    "    arr = [5, 4, 3, 2, 6, 1, 88, 33, 22, 107]\n",
    "    k = 3\n",
    "    result = find_k_smallest_sort(arr, k)\n",
    "    print(f\"数组中最小的 {k} 个元素是: {result}\")\n",
    "\n",
    "# your algorithm time complexity is :O(n log n)  "
   ],
   "outputs": [
    {
     "name": "stdout",
     "output_type": "stream",
     "text": [
      "数组中最小的 3 个元素是: [1, 2, 3]\n"
     ]
    }
   ],
   "execution_count": 18
  },
  {
   "metadata": {},
   "cell_type": "markdown",
   "source": "idea：通过逐个插入元素构建最小堆，再执行k次弹出堆顶操作。"
  },
  {
   "metadata": {
    "ExecuteTime": {
     "end_time": "2025-05-13T05:17:39.362188Z",
     "start_time": "2025-05-13T05:17:39.352915Z"
    }
   },
   "cell_type": "code",
   "source": [
    "# add your code here\n",
    "import heapq\n",
    "from typing import List\n",
    " \n",
    " # 使用小顶堆返回数组中最小的 k 个元素\n",
    "def find_k_smallest_elements(arr: List[int], k: int) -> List[int]:\n",
    "  \n",
    "    # 参数检查\n",
    "    if not isinstance(arr, list) or not all(isinstance(x, int) for x in arr):\n",
    "        raise ValueError(\"arr 必须是整数列表\")\n",
    "    if not isinstance(k, int) or k < 0:\n",
    "        raise ValueError(\"k 必须是非负整数\")\n",
    "    if k > len(arr):\n",
    "        raise ValueError(\"k 不能大于数组长度\")\n",
    "\n",
    "    # 使用 heapq 库内置的 nsmallest 函数获取最小的 k 个元素\n",
    "    return heapq.nsmallest(k, arr)\n",
    "\n",
    "if __name__ == \"__main__\":\n",
    "    sample_array = [5,4,3,2,6,1,88,33,22,107]\n",
    "    k = 3\n",
    "    result = find_k_smallest_elements(sample_array, k)\n",
    "    print(f\"数组中最小的 {k} 个元素是: {result}\")\n",
    "\n",
    "# your algorithm time complexity is :O(n log n + k log n)"
   ],
   "outputs": [
    {
     "name": "stdout",
     "output_type": "stream",
     "text": [
      "数组中最小的 3 个元素是: [1, 2, 3]\n"
     ]
    }
   ],
   "execution_count": 17
  },
  {
   "cell_type": "markdown",
   "metadata": {},
   "source": [
    "## 问题 9：\n",
    "\n",
    "**选择问题**:给定一个包含n个未排序值的数组A和一个$k≤n$的整数, 返回A中最小的第k项。\n",
    "\n",
    "在课堂上, 学了一个简单的O(n)随机算法来解决选择问题。事实上还有一种更复杂的最坏情况下时间复杂度为$O(n)$ 的选择算法。假设使用一个黑盒过程来实现这个O(n)选择算法: 给定一个数组A、 $p < r$ 和 k,  $BB(A, p, r, k)$ 可以在$O(r−p+ 1)$时间内找到并报告$A[p..r]$中第k小的项的下标。假设你可以在线性时间内处理Partition过程。\n",
    "\n",
    "1. 请分析如何修改 Quicksork 算法可以使其最差情况下的运行时间为 $O(nlogn)$, 使用伪代码实现, 并分析为何修改后的版本最差情况的运行时间为$O(nlogn)$\n",
    "\n",
    "note: 伪代码中, 你可以直接调用用` BB(A,p,r,k)`这个函数用于表示在最坏情况下时间复杂度为$O(n)$的选择算法；\n",
    "\n",
    "\n",
    "\n",
    "2. 找到一个更好的算法报告数组A中的前k小的项, 使用伪代码表示你的算法, 并分析你算法的时间复杂度。\n",
    "\n",
    "举例：A=[13, 3, 7, 9, 11, 1, 15, 2, 8, 10, 12, 16, 14, 5], 当k=4时, 应该报告1, 2, 3, 4\n",
    "\n",
    "note： 最直观的方法就是先将数组A排序, 然后从左向右报告其前k项, 这样操作的时间复杂度为$O(nlogn)$. 调用用` BB(A,p,r,k)`设计一个算法使其报告无序数组A的前k项, 满足时间复杂度好于$\\Theta(nlogn)$, 并且当$k=\\sqrt{n}$时, 你设计的算法时间复杂度应该为$\\Theta(n)$.\n",
    "\n",
    "\n",
    "\n",
    "3. 给定一个大小为n的数组, 找到一个 时间复杂度为$O(n log k)$ 的算法, 该算法将A中的元素重新排序, 使它们被划分为k个部分, 每个部分的元素小于或等于下一部分的元素。假设n和k都是2的幂。使用伪代码表示你的算法, 并分析时间复杂度。\n",
    "\n",
    "e.g.:\n",
    "---\n",
    "数组：[1,  3,  5,  7,  9,  11,  13,  15,  2,  4,  6,  8,  10,  12,  16,  14], k=4, \n",
    "\n",
    "对应重新排序的数组为：[1,  3,  2,  4]  [7,  6,  5,  8]  [12,  11,  10,  9]  [13,  14,  16,  15]\n",
    "\n",
    "\n"
   ]
  },
  {
   "cell_type": "markdown",
   "metadata": {},
   "source": "idea：通过每次递归选择数组中位数作为pivot，确保每次划分后的子数组大小平衡，从而将快速排序的最坏时间复杂度优化至O(n log n)。"
  },
  {
   "cell_type": "code",
   "execution_count": null,
   "metadata": {},
   "outputs": [],
   "source": [
    "# add your pseudo-code here\n",
    "MODIFIED_QUICKSORT(A, p, r):\n",
    "    if p < r:\n",
    "        median_idx = BB(A, p, r, (r-p+1)//2)\n",
    "        swap A[median_idx] ↔ A[r]\n",
    "        q = PARTITION(A, p, r)  \n",
    "        MODIFIED_QUICKSORT(A, p, q-1)\n",
    "        MODIFIED_QUICKSORT(A, q+1, r)\n",
    "# your algorithm time complexity is :O(n log n)"
   ]
  },
  {
   "metadata": {},
   "cell_type": "markdown",
   "source": "idea：使用BB函数找到第k小的元素x。再遍历数组收集所有小于x的元素。若收集的元素不足k个，补充等于x的元素直到总数达到k。最后对收集的k个元素排序后输出。"
  },
  {
   "metadata": {},
   "cell_type": "code",
   "outputs": [],
   "execution_count": null,
   "source": [
    "# add your pseudo-code here\n",
    "FIND_K_SMALLEST(A, k):\n",
    "    kth_idx = BB(A, 0, len(A)-1, k)\n",
    "    x = A[kth_idx]\n",
    "    result = [a for a in A if a < x]\n",
    "    remaining = k - len(result)\n",
    "    for a in A:\n",
    "        if a == x and remaining > 0:\n",
    "            result.append(a)\n",
    "            remaining -= 1\n",
    "    sort(result)\n",
    "    return result[:k]\n",
    "# your algorithm time complexity is :O(n + k log k)"
   ]
  },
  {
   "metadata": {},
   "cell_type": "markdown",
   "source": "idea：递归使用BB函数将数组划分为k个部分，每次将当前数组分为两半，直到划分为k个部分。每个部分的元素≤后续部分。"
  },
  {
   "metadata": {},
   "cell_type": "code",
   "outputs": [],
   "execution_count": null,
   "source": [
    "# add your pseudo-code here\n",
    "DIVIDE_K_PARTS(A, k):\n",
    "    if k == 1:\n",
    "        return [A]\n",
    "    mid_idx = BB(A, 0, len(A)-1, len(A)//2)\n",
    "    mid_val = A[mid_idx]\n",
    "    left = [a for a in A if a <= mid_val]\n",
    "    right = [a for a in A if a > mid_val]\n",
    "    return DIVIDE_K_PARTS(left, k//2) + DIVIDE_K_PARTS(right, k//2)\n",
    "# your algorithm time complexity is :O(n log k)"
   ]
  },
  {
   "cell_type": "markdown",
   "metadata": {},
   "source": [
    "## 问题 10：\n",
    "\n",
    "给定一个包含m个**字符串**的数组A, 其中不同的字符串可能有不同的字符数, 但数组中所有字符串的字符总数为n。设计一个算法在 $O(n)$ 时间内对字符串进行排序, 分析算法设计方案, 计算其时间复杂度, 并基于python编程实现该算法。请注意, 假设字符串只包含\"a\",\"b\",...,\"z\", \n",
    "\n",
    "\n",
    "\n",
    "举例1：数组A=[\"a\", \"da\", \"bde\", \"ab\", \"bc\", \"abdc\", \"cdba\"], 排序后的数组应该为：['a', 'ab', 'abdc', 'bc', 'bde', 'cdba', 'da']\n",
    "\n",
    "\n",
    "\n",
    "举例2：数组A=['ab', 'a', 'b', 'abc', 'ba', 'c'], 排序后的数组应该为：\n",
    "\n",
    "['a', 'ab', 'abc', 'b', 'ba', 'c']\n",
    "\n",
    "\n",
    "\n",
    "举例3：数组A=['aef', 'yzr', 'wr', 'ab', 'bhjc', 'lkabdc', 'pwcdba'],  排序后的数组应该为：['ab', 'aef', 'bhjc', 'lkabdc', 'pwcdba', 'wr', 'yzr']\n",
    "\n",
    "\n",
    "\n",
    "note：\n",
    "\n",
    "-  两个字符之间的比较可以考虑比较他们对应的ASCII码值；\n",
    "- python中可以使用`ord(\"a\")`返回字符 “a”对应的ASCII值"
   ]
  },
  {
   "cell_type": "markdown",
   "metadata": {},
   "source": [
    "idea:\n",
    "利用前缀树（Trie）对字符串进行字典序排序，可在 O(n) 时间复杂度内完成，其中 n 为所有字符总数；构建时逐字符插入字符串到 Trie 中，每条路径代表一个前缀，末节点标记完整字符串结束；随后通过深度优先遍历（DFS），按字母顺序访问每个子节点，遇到结束标记即收集当前路径为一个完整字符串，从而按字典序输出所有字符串。\n"
   ]
  },
  {
   "cell_type": "code",
   "metadata": {
    "ExecuteTime": {
     "end_time": "2025-05-13T05:20:52.506167Z",
     "start_time": "2025-05-13T05:20:52.497064Z"
    }
   },
   "source": [
    "# add your code here\n",
    "from typing import List, Dict\n",
    "\n",
    "class TrieNode:\n",
    "    def __init__(self):\n",
    "        # 子节点字典：键为字符，值为对应的 TrieNode\n",
    "        self.children: Dict[str, 'TrieNode'] = {}\n",
    "        # 表示是否为一个完整单词的结尾\n",
    "        self.is_end: bool = False\n",
    "        \n",
    "# 使用前缀树（Trie）对字符串数组进行字典序排序\n",
    "def sort_strings(arr: List[str]) -> List[str]:\n",
    "\n",
    "    root = TrieNode()\n",
    "\n",
    "    # 将每个字符串插入前缀树中\n",
    "    for s in arr:\n",
    "        node = root\n",
    "        for char in s:\n",
    "            if char not in node.children:\n",
    "                node.children[char] = TrieNode()\n",
    "            node = node.children[char]\n",
    "        node.is_end = True  # 当前路径是一个完整单词\n",
    "\n",
    "    result: List[str] = []\n",
    "\n",
    "    # 深度优先遍历前缀树，按字典序收集单词\n",
    "    def dfs(node: TrieNode, current_word: str):\n",
    "        if node.is_end:\n",
    "            result.append(current_word)\n",
    "        for char in sorted(node.children.keys()):\n",
    "            dfs(node.children[char], current_word + char)\n",
    "\n",
    "    dfs(root, \"\")\n",
    "    return result\n",
    "\n",
    "if __name__ == \"__main__\":\n",
    "   \n",
    "    A1 = [\"a\", \"da\", \"bde\", \"ab\", \"bc\", \"abdc\", \"cdba\"]\n",
    "    print(\"排序结果 A1:\", sort_strings(A1))  \n",
    "\n",
    "    A2 = ['ab', 'a', 'b', 'abc', 'ba', 'c']\n",
    "    print(\"排序结果 A2:\", sort_strings(A2)) \n",
    "\n",
    "    A3 = ['aef', 'yzr', 'wr', 'ab', 'bhjc', 'lkabdc', 'pwcdba']\n",
    "    print(\"排序结果 A3:\", sort_strings(A3)) \n",
    "\n",
    "\n",
    "# your algorithm time complexity is :O(n)"
   ],
   "outputs": [
    {
     "name": "stdout",
     "output_type": "stream",
     "text": [
      "排序结果 A1: ['a', 'ab', 'abdc', 'bc', 'bde', 'cdba', 'da']\n",
      "排序结果 A2: ['a', 'ab', 'abc', 'b', 'ba', 'c']\n",
      "排序结果 A3: ['ab', 'aef', 'bhjc', 'lkabdc', 'pwcdba', 'wr', 'yzr']\n"
     ]
    }
   ],
   "execution_count": 19
  }
 ],
 "metadata": {
  "language_info": {
   "name": "python"
  },
  "kernelspec": {
   "name": "python3",
   "language": "python",
   "display_name": "Python 3 (ipykernel)"
  }
 },
 "nbformat": 4,
 "nbformat_minor": 2
}
