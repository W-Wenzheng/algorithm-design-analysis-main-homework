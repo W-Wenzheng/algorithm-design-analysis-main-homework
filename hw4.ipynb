{
 "cells": [
  {
   "cell_type": "markdown",
   "metadata": {},
   "source": [
    "## algorithm design and anlysis-2025 spring  homework 4\n",
    "**Deadline**：2025.5.14\n",
    "\n",
    "**name**:\n",
    "\n",
    "\n",
    "note：\n",
    "---\n",
    "1. 带有\\*的题目，申请免上课的同学，必须完成，其他同学选作；\n",
    "2. 请独立完成，如求助了他人或者大模型，请著明，并且不可省略算法分析部分；\n",
    "4. 如若作答有雷同，全部取消成绩；\n",
    "3. 需要书面作答的题目，可以通过引用图片的形式添加，但是注意上传项目时包含所引用的图片的源文件；\n",
    "4. $log_n$ 默认表示$log_2{n}$;"
   ]
  },
  {
   "cell_type": "markdown",
   "metadata": {},
   "source": [
    "## 问题 1 \n",
    "**最小生成树（Minimum Spanning Tree）**\n",
    "\n",
    "设  **G**  为一个带权重的连通无向图，且所有边的权重均不相等。令$e_i$ 为权重第 $i$ 小的边。最小生成树（MST）是否必须包含 $e_1$ ? 同理，是否必须包含 $e_2$ 和 $e_3$ ? 若必须包含，请给出证明；否则，请构造反例。需从基本原理论证，不能依赖割引理(cut lemma) 或 Prim/Kruskal算法的正确性。\n"
   ]
  },
  {
   "cell_type": "markdown",
   "metadata": {},
   "source": [
    "answer:\n",
    "\n",
    "**结论**\n",
    "- \\( e_1 \\) 和 \\( e_2 \\) 必须被包含：任何MST不包含它们会导致更优解存在，矛盾。  \n",
    "- \\( e_3 \\) 不一定被包含：存在反例（如环形结构中选择更优边组合），使得MST可不含 \\( e_3 \\)。\n",
    "\n",
    "**证明**\n",
    "\n",
    " 1. \\( e_1 \\) 必须被包含\n",
    "证明：  \n",
    "假设存在一个MST不包含 \\( e_1 \\)。将 \\( e_1 \\) 加入该MST，会形成一个环。由于所有边权重唯一且 \\( e_1 \\) 是全局最小边，环中至少存在一条边 \\( e' \\) 满足 \\( w(e') > w(e_1) \\)。删除 \\( e' \\) 并保留 \\( e_1 \\)，可以得到总权重更小的生成树，与原始MST的假设矛盾。因此，所有MST必须包含 \\( e_1 \\)。\n",
    "\n",
    "\n",
    "2. \\( e_2 \\) 必须被包含\n",
    "证明：  \n",
    "假设存在一个MST不包含 \\( e_2 \\)。将 \\( e_2 \\) 加入该MST，会形成一个环。由于所有边权重唯一且 \\( e_2 \\) 是第二小边，环中至少存在一条边 \\( e' \\) 满足 \\( w(e') > w(e_2) \\)。删除 \\( e' \\) 并保留 \\( e_2 \\)，可以得到更优的生成树，矛盾。因此，所有MST必须包含 \\( e_2 \\)。\n",
    "\n",
    "\n",
    "3. \\( e_3 \\) 不一定被包含\n",
    "反例：  \n",
    "考虑图如下：  \n",
    "- 顶点：\\( A, B, C, D \\)  \n",
    "- 边：  \n",
    "  - \\( e_1 = AB (1) )  \n",
    "  - \\( e_2 = BC (2) )  \n",
    "  - \\( e_3 = CA (3) )  \n",
    "  - \\( e_4 = AD (4) )  \n"
   ]
  },
  {
   "cell_type": "markdown",
   "metadata": {},
   "source": [
    "## 问题 2 \n",
    "**瓶颈生成树（Bottleneck Spanning Tree）**\n",
    "\n",
    "带有权重的无向图 $G(V,E,w)$ 的瓶颈生成树，表现为：在所有生成树中，最大权重边的权重值最小。即，BST $T$ 最小化瓶颈损失 $c(T)=max_{e \\in T}{w(e)}$。\n",
    "\n",
    "1. 证明 $G$ 的每一个最小生成树（MST）都是瓶颈生成树（BST）\n",
    "2. 设计一个线性时间复杂度的算法：， 对于一个图 $G(V,E,w)$ 和一个整数 $b$，判断图 $ G$ 是否存在一个瓶颈生成树，其最大权重边的权重不超过 $b$，分析算法设计思路，并基于python编程实现。\n",
    "3. 设计一个线性时间复杂度的算法：对于给定的图 $G(V,E,w)$，找到其瓶颈生成树，分析算法设计思路，并基于python编程实现。"
   ]
  },
  {
   "metadata": {},
   "cell_type": "markdown",
   "source": "证明：假设存在一个生成树 \\( T' \\)，其最大边权 \\( d < c \\)（其中 \\( c \\) 是某MST的最大边权）。将 \\( T' \\) 的所有边加入后，这些边的权重均 \\( <= d \\)。由于在构造MST时，必须选择权重为 \\( c \\) 的边才能连通整个图，说明权重 \\( <=d \\) 的边不足以连接所有顶点，矛盾。因此，\\( T' \\) 不存在，MST的最大边权 \\( c \\) 是所有生成树中可能的最小值，故MST是BST。"
  },
  {
   "cell_type": "markdown",
   "metadata": {},
   "source": "idea：首先过滤边：保留所有权重 \\(<= b \\) 的边，构成子图 \\( G' \\)。然后进行连通性检查：使用BFS/DFS或并查集判断 \\( G' \\) 是否连通。若连通，则存在这样的BST；否则不存在。"
  },
  {
   "cell_type": "code",
   "metadata": {
    "ExecuteTime": {
     "end_time": "2025-05-12T07:22:47.233948Z",
     "start_time": "2025-05-12T07:22:47.224377Z"
    }
   },
   "source": [
    "# add your code here\n",
    "from collections import deque\n",
    "from typing import List, Tuple, Set\n",
    "\n",
    "def has_bottleneck_tree(vertices: Set[int], edges: List[Tuple[int, int, int]], b: int) -> bool:\n",
    "\n",
    "    # 建立一个仅包含权重 ≤ b 的边的无向图邻接表\n",
    "    adj = {v: [] for v in vertices}\n",
    "    for u, v, w in edges:\n",
    "        if w <= b:\n",
    "            adj[u].append(v)\n",
    "            adj[v].append(u)\n",
    "\n",
    "    # 边界情况：空图或空顶点集，视为可连通\n",
    "    if not vertices:\n",
    "        return True\n",
    "\n",
    "    # 使用 BFS 判断是否连通\n",
    "    visited = set()\n",
    "    start = next(iter(vertices))  # 任意选择一个起点\n",
    "    queue = deque([start])\n",
    "    visited.add(start)\n",
    "\n",
    "    while queue:\n",
    "        u = queue.popleft()\n",
    "        for v in adj[u]:\n",
    "            if v not in visited:\n",
    "                visited.add(v)\n",
    "                queue.append(v)\n",
    "\n",
    "    # 如果所有顶点都被访问过，说明图是连通的\n",
    "    return len(visited) == len(vertices)\n",
    "\n",
    "# algorithm of the liear time complexity  O(V + E)"
   ],
   "outputs": [],
   "execution_count": 2
  },
  {
   "metadata": {},
   "cell_type": "markdown",
   "source": "idea：首先找到最小可能的 \\( b \\)：即MST的最大边权。由于MST的构造依赖排序，需优化为线性时间。然后构造生成树：在边权 \\( \\leq b \\) 的子图中，通过BFS/DFS生成树。"
  },
  {
   "metadata": {
    "ExecuteTime": {
     "end_time": "2025-05-12T07:45:01.552789Z",
     "start_time": "2025-05-12T07:45:01.544641Z"
    }
   },
   "cell_type": "code",
   "source": [
    "# add your code here\n",
    "def find_bottleneck_tree(vertices, edges):\n",
    "    # 从边中提取所有权重值\n",
    "    edge_weights = [w for (u, v, w) in edges]\n",
    "    # 如果没有边，直接返回空列表\n",
    "    if not edge_weights:\n",
    "        return []\n",
    "\n",
    "    # 定义验证函数：判断给定瓶颈值b是否能构成瓶颈树\n",
    "    def is_valid(b):\n",
    "        return has_bottleneck_tree(vertices, edges, b)\n",
    "\n",
    "    # 初始化二分搜索的左右边界为最小和最大边权重\n",
    "    left = min(edge_weights)\n",
    "    right = max(edge_weights)\n",
    "    answer = right  # 默认答案为最大权重\n",
    "    \n",
    "    # 二分搜索寻找最小瓶颈值\n",
    "    while left <= right:\n",
    "        mid = (left + right) // 2\n",
    "        if is_valid(mid):  # 如果mid可行，尝试寻找更小的值\n",
    "            answer = mid\n",
    "            right = mid - 1\n",
    "        else:  # 否则需要增大瓶颈值\n",
    "            left = mid + 1\n",
    "\n",
    "    # 筛选出权重不超过answer的所有边\n",
    "    filtered_edges = [(u, v, w) for (u, v, w) in edges if w <= answer]\n",
    "    # 构建邻接表\n",
    "    adj = {v: [] for v in vertices}\n",
    "    for (u, v, w) in filtered_edges:\n",
    "        adj[u].append(v)\n",
    "        adj[v].append(u)\n",
    "\n",
    "    # BFS遍历构建生成树\n",
    "    parent = {}  # 记录每个节点的父节点\n",
    "    start = next(iter(vertices))  # 选择任意一个顶点作为起点\n",
    "    queue = deque([start])\n",
    "    visited = {start}\n",
    "    # 处理可能的不连通情况（虽然题目通常保证连通）\n",
    "    for v in vertices:\n",
    "        if v not in visited:\n",
    "            queue = deque([v])\n",
    "            visited.add(v)\n",
    "        while queue:\n",
    "            u = queue.popleft()\n",
    "            for neighbor in adj[u]:\n",
    "                if neighbor not in visited:\n",
    "                    visited.add(neighbor)\n",
    "                    parent[neighbor] = u  # 记录父节点\n",
    "                    queue.append(neighbor)\n",
    "\n",
    "    # 从父节点关系中提取生成树的边\n",
    "    tree_edges = []\n",
    "    for v in vertices:\n",
    "        if v != start and v in parent:  # 对每个非根节点\n",
    "            # 找到原边中的权重值（保持原始顺序）\n",
    "            tree_edges.append(\n",
    "                (parent[v], v, next(w for (u, v2, w) in edges \n",
    "                                  if (u == parent[v] and v2 == v) or \n",
    "                                     (u == v and v2 == parent[v])))\n",
    "            )\n",
    "    \n",
    "    return tree_edges\n",
    "\n",
    "\n",
    "# algorithm of the liear time complexity  O((V + E)"
   ],
   "outputs": [],
   "execution_count": 8
  },
  {
   "cell_type": "markdown",
   "metadata": {},
   "source": [
    "## 问题 3\n",
    "\n",
    "**道路网（Road Network）**\n",
    "\n",
    "假设有一个以图 $ G(V, E, l) $ 表示的道路网络，连接了一组城市 $ V $。我们假设该网络是有向的，并且每条道路 $(u, v) \\in E$ 都有一个非负的长度 $ l(u, v) $。一条新的道路即将被建造，因此有一个列表 $ E' $ 包含它可以连接的城市对。每对 $(u, v) \\in E'$ 都有一个对应的长度 $ l'(u, v) $。我们希望选择一对城市，使得两个城市 $ s, t \\in V $ 之间的距离减少最大。请为此问题编写一个高效的算法，并详细解释算法的正确性和复杂度。\n"
   ]
  },
  {
   "metadata": {},
   "cell_type": "markdown",
   "source": "idea：该算法通过两次预处理（正向计算起点s到所有节点的最短距离、反向计算所有节点到终点t的最短距离），结合候选边的路径优化潜力，找到使s到t距离减少最大的新边。具体步骤为首先预处理最短路径：使用Dijkstra算法计算原图中s到所有节点的最短距离d_s，以及反向图中所有节点到t的最短距离d_t（通过构建反向边实现）。然后评估候选边：对每条候选边(u, v)，其潜在优化路径为s→u→v→t，新路径长度为d_s[u] + l'(u, v) + d_t[v]，若此值小于原最短距离，则减少量为二者差值。最后选择最优解：遍历所有候选边，比较减少量，保留减少量最大的边"
  },
  {
   "metadata": {
    "ExecuteTime": {
     "end_time": "2025-05-12T07:35:54.058885Z",
     "start_time": "2025-05-12T07:35:54.051572Z"
    }
   },
   "cell_type": "code",
   "source": [
    "# add your code here\n",
    "import heapq\n",
    "from collections import defaultdict\n",
    "from typing import List, Tuple, Dict, Optional\n",
    "\n",
    "def find_optimal_new_road(\n",
    "    V: List[int], \n",
    "    existing_edges: List[Tuple[int, int, int]], \n",
    "    candidate_edges: List[Tuple[int, int, int]], \n",
    "    start: int, \n",
    "    end: int\n",
    ") -> Tuple[Optional[Tuple[int, int]], int]:\n",
    "    \n",
    "    # 构建正向图和反向图（反向图用于从终点开始的最短路）\n",
    "    graph = defaultdict(list)\n",
    "    reverse_graph = defaultdict(list)\n",
    "    for u, v, l in existing_edges:\n",
    "        graph[u].append((v, l))\n",
    "        reverse_graph[v].append((u, l))\n",
    "    # 使用 Dijkstra 算法计算单源最短路径\n",
    "    def dijkstra(source: int, g: Dict[int, List[Tuple[int, int]]]) -> Dict[int, int]:\n",
    "  \n",
    "        dist = {node: float('inf') for node in V}\n",
    "        dist[source] = 0\n",
    "        heap = [(0, source)]\n",
    "        visited = set()\n",
    "\n",
    "        while heap:\n",
    "            cur_dist, u = heapq.heappop(heap)\n",
    "            if u in visited:\n",
    "                continue\n",
    "            visited.add(u)\n",
    "\n",
    "            for v, w in g[u]:\n",
    "                if dist[v] > cur_dist + w:\n",
    "                    dist[v] = cur_dist + w\n",
    "                    heapq.heappush(heap, (dist[v], v))\n",
    "        return dist\n",
    "\n",
    "    # 计算从起点出发和到终点的最短路径\n",
    "    dist_from_start = dijkstra(start, graph)\n",
    "    dist_to_end = dijkstra(end, reverse_graph)\n",
    "    original_distance = dist_from_start.get(end, float('inf'))\n",
    "\n",
    "    max_reduction = 0\n",
    "    best_edge = None\n",
    "\n",
    "    # 尝试每一条候选边，看是否能进一步缩短路径\n",
    "    for u, v, new_len in candidate_edges:\n",
    "        du = dist_from_start.get(u, float('inf'))\n",
    "        dv = dist_to_end.get(v, float('inf'))\n",
    "        candidate_path_length = du + new_len + dv\n",
    "\n",
    "        if candidate_path_length < original_distance:\n",
    "            reduction = original_distance - candidate_path_length\n",
    "        else:\n",
    "            reduction = 0\n",
    "\n",
    "        if reduction > max_reduction:\n",
    "            max_reduction = reduction\n",
    "            best_edge = (u, v)\n",
    "\n",
    "    return best_edge, max_reduction\n",
    "\n",
    "\n",
    "# algorithm of the liear time complexity  O((V + E) \\log V + K)\n"
   ],
   "outputs": [
    {
     "name": "stdout",
     "output_type": "stream",
     "text": [
      "Can reach t from s with length <= L: False\n"
     ]
    }
   ],
   "execution_count": 6
  },
  {
   "metadata": {},
   "cell_type": "markdown",
   "source": [
    "正确性证明：新路径唯一性：加入单条边 $(u, v)$ 后，唯一可能缩短的路径是 $s \\to u \\to v \\to t$。最优性保证：Dijkstra 算法确保 $d_s$ 和 $d_t$ 是全局最短距离，因此候选路径长度是理论最小值。\n",
    "\n",
    "时间复杂度\n",
    "\n",
    "Dijkstra 算法：两次运行，时间复杂度为 $O((V + E) \\log V)$。  候选边遍历：$O(K)$，其中 $K$ 是候选边数量。  \n",
    "总复杂度：$O((V + E) \\log V + K)$，满足高效要求。\n"
   ]
  },
  {
   "cell_type": "markdown",
   "metadata": {},
   "source": [
    "## 问题 4\n",
    "\n",
    "**逃离问题**\n",
    "\n",
    "一个 $ n \\times n $ 的网格是一个无向图，由 $ n $ 行和 $ n $ 列的顶点组成，如下图所示。我们用 $(i,j)$ 表示第 $ i $ 行和第 $ j $ 列的顶点。除了边界顶点，网格中的所有顶点都有四个邻居，即满足 $ i = 1, i = n, j = 1 $ 或 $ j = n $ 的点 $(i,j)$。\n",
    "\n",
    "给定网格中的 $ m \\leq n^2 $ 个起点 $(x_1, y_1), (x_2, y_2), \\cdots , (x_m, y_m)$，逃离问题是确定是否存在 $ m $ 条顶点不相交的路径（即路径之间不相交），从这些起点到边界上的任意 $ m $ 个不同点。例如，图1中的网格存在逃离。\n",
    "\n",
    "(1) 该问题可以看作是一个最大流问题。考虑一个流网络，其中顶点和边都有容量。也就是说，进入任何给定顶点的总正流量受到容量限制。证明在具有边和顶点容量的网络中确定最大流可以简化为在具有可比大小的普通流网络上的最大流问题。更准确地说，你需要将一个具有顶点和边容量的网络 $ G = (V,E) $ 转换为另一个仅具有边容量的网络 $ G' = (V', E') $，使得两个网络上的最大流相同，并且你构建的新网络具有 $ V' = O(V) $ 个顶点和 $ E' = O(E) $ 条边。你可以假设网络是连通的。\n",
    "\n",
    "(2) 描述一个解决逃离问题的高效算法，并分析其运行时间。\n",
    "\n",
    "\n",
    "<div align=\"center\"> <img alt=\"图片\" src=\"./fig/escepe-p.png\"> </div>\n",
    "<center> 图2. 逃脱问题网格，起始顶点为黑色，其他网格顶点为白色</center>"
   ]
  },
  {
   "cell_type": "markdown",
   "metadata": {},
   "source": [
    "idea：\n",
    "\n",
    "1.从带顶点容量的网络到仅带边容量的网络\n",
    "\n",
    "对每个原图顶点 $v\\in V$（容量为 $c_v$），我们“拆分”成两个顶点 $v_{\\rm in}$ 和 $v_{\\rm out}$，并在它们之间加一条有向边 $(v_{\\rm in}\\to v_{\\rm out})$，容量设为 $c_v$。原来所有指向 $v$ 的边 $(u\\!-\\!v)$ 改为从 $u_{\\rm out}\\to v_{\\rm in}$，容量不变；而所有从 $v$ 出发的边 $(v\\!-\\!w)$ 改为从 $v_{\\rm out}\\to w_{\\rm in}$。这样，每次流经“$v_{\\rm in}\\to v_{\\rm out}$”都受到原顶点容量 $c_v$ 的限制；其余边仅保留它们原有的容量约束。新网络顶点数和边数均为原来的 $O(V)$ 和 $O(E)$，且最大流值恰与原网络相同。\n",
    "\n"
   ]
  },
  {
   "metadata": {},
   "cell_type": "markdown",
   "source": [
    "2.逃离问题的算法设计  \n",
    "\n",
    "算法步骤：  \n",
    "1. 构建流网络：  \n",
    "   - 将网格中每个顶点 $(i,j)$ 拆分为 $(i,j)_{\\text{in}}$ 和 $(i,j)_{\\text{out}}$，边 $(i,j)_{\\text{in}} \\to (i,j)_{\\text{out}}$ 容量为 1。  \n",
    "   - 对网格中每条无向边 $(u, v)$，添加两条有向边 $u_{\\text{out}} \\to v_{\\text{in}}$ 和 $v_{\\text{out}} \\to u_{\\text{in}}$，容量均为 1。  \n",
    "   - 源点 $S$ 连接所有起点 $(x_k, y_k)_{\\text{in}}$，边容量为 1。  \n",
    "   - 所有边界顶点 $(i,j)_{\\text{out}}$ 连接到汇点 $T$，边容量为 1。  \n",
    "\n",
    "2. 计算最大流：使用 Dinic 算法或 ISAP 算法计算 $S$ 到 $T$ 的最大流。  \n",
    "\n",
    "3. 判定条件：若最大流等于 $m$，则存在 $m$ 条顶点不相交的逃离路径；否则不存在。  \n",
    "\n",
    "时间复杂度：  \n",
    "- 网络顶点数 $O(n^2)$，边数 $O(n^2)$。  \n",
    "- Dinic 算法在单位容量网络中的复杂度为 $O(E \\sqrt{V}) = O(n^3)$，满足高效性要求。  "
   ]
  }
 ],
 "metadata": {
  "language_info": {
   "name": "python"
  },
  "kernelspec": {
   "name": "python3",
   "language": "python",
   "display_name": "Python 3 (ipykernel)"
  }
 },
 "nbformat": 4,
 "nbformat_minor": 2
}
