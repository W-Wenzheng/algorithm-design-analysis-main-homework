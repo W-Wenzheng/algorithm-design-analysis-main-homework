{
 "cells": [
  {
   "cell_type": "markdown",
   "metadata": {},
   "source": [
    "## algorithm design and anlysis-2025 spring  homework 2\n",
    "**Deadline**：2025.5.14\n",
    "\n",
    "**name**:\n",
    "\n",
    "\n",
    "note：\n",
    "---\n",
    "1. 带有\\*的题目，申请免上课的同学，必须完成，其他同学选作；\n",
    "2. 请独立完成，如求助了他人或者大模型，请著明，并且不可省略算法分析部分；\n",
    "4. 如若作答有雷同，全部取消成绩；\n",
    "3. 需要书面作答的题目，可以通过引用图片的形式添加，但是注意上传项目时包含所引用的图片的源文件；\n",
    "4. $log_n$ 默认表示$log_2{n}$;"
   ]
  },
  {
   "cell_type": "markdown",
   "metadata": {},
   "source": [
    "## 问题 1  \n",
    "\n",
    "> 给定一个已排序的链表的头 `head` ， *删除所有重复的元素，使每个元素只出现一次* 。返回 *已排序的链表* 。链表的类如下所示：\n",
    "\n",
    "```python\n",
    "class NodeList:\n",
    "    def __init__(self, val=None, right=None):\n",
    "        self.val   = val\n",
    "        self.right = right\n",
    "```\n",
    "\n",
    "输入是一个数组，你首先需要将数组转化为链表，然后删除链表中的重复元素，再遍历链表元素，以一个数组的形式返回。请设计一个算法解决上述任务，分析算法设计思路，计算时间复杂度, 并基于python编程实现。\n",
    "\n",
    "e.g.  输入：head=[1, 1, 2, 3, 3]   输出：[1, 2, 3]\n",
    "\n",
    "![image-20240502110020439](./fig/hw2q1.png)\n",
    "\n"
   ]
  },
  {
   "cell_type": "markdown",
   "metadata": {},
   "source": [
    "idea：\n",
    "首先，将输入数组转换为链表：遍历数组中的每个元素，依次创建对应的链表节点，并将它们连接成一个完整的链表。接着，利用链表已排序的特性，删除其中的重复元素：从头开始遍历链表，若当前节点的值与下一个节点相同，则跳过重复节点，继续向后遍历；否则移动到下一个节点。最后，将处理后的链表重新转换为数组：遍历整个链表，将每个节点的值依次存入一个新的数组中，并将该数组作为最终结果返回。"
   ]
  },
  {
   "cell_type": "code",
   "metadata": {
    "ExecuteTime": {
     "end_time": "2025-05-10T02:13:56.097524Z",
     "start_time": "2025-05-10T02:13:56.091188Z"
    }
   },
   "source": [
    "# add your idea here\n",
    "class NodeList:\n",
    "    def __init__(self, val=None, right=None):\n",
    "        self.val = val\n",
    "        self.right = right\n",
    "\n",
    "def array_to_linkedlist(arr):\n",
    "    if not arr:\n",
    "        return None\n",
    "    head = NodeList(arr[0])\n",
    "    current = head\n",
    "    for val in arr[1:]:\n",
    "        current.right = NodeList(val)\n",
    "        current = current.right\n",
    "    return head\n",
    "\n",
    "def delete_duplicates(head):\n",
    "    if not head:\n",
    "        return None\n",
    "    current = head\n",
    "    while current.right:\n",
    "        if current.val == current.right.val:\n",
    "            current.right = current.right.right\n",
    "        else:\n",
    "            current = current.right\n",
    "    return head\n",
    "\n",
    "def linkedlist_to_array(head):\n",
    "    arr = []\n",
    "    current = head\n",
    "    while current:\n",
    "        arr.append(current.val)\n",
    "        current = current.right\n",
    "    return arr\n",
    "\n",
    "def process(arr):\n",
    "    head = array_to_linkedlist(arr)\n",
    "    head = delete_duplicates(head)\n",
    "    return linkedlist_to_array(head)\n",
    "\n",
    "print(process([1, 1, 2, 3, 3])) \n",
    "\n",
    "# your algorithm time complexity is:O(n)"
   ],
   "outputs": [
    {
     "name": "stdout",
     "output_type": "stream",
     "text": [
      "[1, 2, 3]\n"
     ]
    }
   ],
   "execution_count": 15
  },
  {
   "cell_type": "markdown",
   "metadata": {},
   "source": [
    "## 问题 2  \n",
    "\n",
    "> 下面是一个经典的算法问题：\n",
    ">\n",
    "> - 给定包含n个整数的一个整数数组 `nums` 和一个整数目标值 `target`，请你在该数组中找出 **和为目标值** *`target`* 的那 **两个** 整数，并返回它们的**数组下标**。假设每种输入只会对应一个答案。但是，数组中同一个元素在答案里不能重复出现。你可以按任意顺序返回答案。\n",
    ">\n",
    "> 由于要多次查找数组中元素的位置，为了提高查询效率可以使用哈希表来存储数组中的数据，在哈希表中查询一个元素的复杂度为O(1)。 已知python中的字典是使用哈希表实现的，即使用`dict[key]`查询对应的value时间复杂度为O(1), python提供了查询字典是否包含某个key的功能：`key in dict`，时间复杂度也是O(1)\n",
    "\n",
    "请根据上面信息，设计一个时间复杂度为O(n) 的算法，解决上述算法问题\n",
    "\n",
    "e.g.   \n",
    "\n",
    "输入：nums=[2,7,11,15], target=9， 输出：[0，1]\n",
    "\n",
    "输入：nums=[3,2,4], target=6, 输出：[1,2]\n",
    "\n",
    "输入：nums=[3,3], target=6,  输出：[0,1]\n"
   ]
  },
  {
   "metadata": {},
   "cell_type": "markdown",
   "source": "idea：首先，使用哈希表（字典）存储已遍历元素的值及其对应的索引，便于快速查找。然后进行一次遍历：对于数组中的每个元素，计算其与目标值之间的差值（即补数）。如果补数已存在于哈希表中，说明找到了两个数的和等于目标值，直接返回这两个数的索引；如果补数尚未出现，则将当前元素及其索引存入哈希表中。通过先判断补数是否存在，再存储当前元素，有效避免了重复使用同一元素的问题。\n"
  },
  {
   "cell_type": "code",
   "metadata": {
    "ExecuteTime": {
     "end_time": "2025-05-10T01:46:04.781390Z",
     "start_time": "2025-05-10T01:46:04.776463Z"
    }
   },
   "source": [
    "# add your idea here\n",
    "def two_sum(nums, target):\n",
    "\n",
    "    num_dict = {}\n",
    "\n",
    "    for index, num in enumerate(nums):\n",
    "        complement = target - num \n",
    "        if complement in num_dict:\n",
    "            return [num_dict[complement], index]\n",
    "        num_dict[num] = index\n",
    "    \n",
    "    return []  \n",
    "\n",
    "\n",
    "# 示例测试\n",
    "print(two_sum([2, 7, 11, 15], 9))  \n",
    "print(two_sum([3, 2, 4], 6))       \n",
    "print(two_sum([3, 3], 6))        \n",
    "\n",
    "# your algorithm time complexity is: O(n)"
   ],
   "outputs": [
    {
     "name": "stdout",
     "output_type": "stream",
     "text": [
      "[0, 1]\n",
      "[1, 2]\n",
      "[0, 1]\n"
     ]
    }
   ],
   "execution_count": 4
  },
  {
   "cell_type": "markdown",
   "metadata": {},
   "source": [
    "## 问题 3:   \n",
    "\n",
    "> 栈是一种常用的数据结构，编译器中通常使用栈来实现表达式求值。\n",
    ">\n",
    "> 以表达式 $3+5 \\times 8-6$​ 为例。编译器使用两个栈来完成运算，即一个栈保持操作数，另一个栈保存运算符。\n",
    ">\n",
    "> 1. 从左向右遍历表达式，遇到数字就压入操作数栈；\n",
    ">\n",
    "> 2. 遇到运算符，就与运算符栈的栈顶元素进行比较。如果比运算符栈顶元素的优先级高，就将当前运算符压入栈；如果比运算符栈顶元素的优先级低或者相同，从运算符栈中取栈顶运算符，从操作数栈的栈顶取 2 个操作数，然后进行计算，再把计算完的结果压入操作数栈，继续比较。\n",
    ">\n",
    "> 下图是 $3+5 \\times 8-6$  这个表达式的计算过程：\n",
    "\n",
    "![figure](./fig/hw2q3.png)\n",
    "\n",
    "根据上述原理，请设计一个算法完成表达式的运算，当输入为表达式字符串，返回对应的计算结果。分析算法设计思路，计算时间复杂度，并基于python编程实现\n",
    "\n",
    "**note：**\n",
    "\n",
    "1. 假设输入的表达式只会出现加（“+”），减 “-”， 乘“*”，除 “/” 四个运算符, 表达式中只会出现正整数\n",
    "2. python中` str.isdigit()`函数可以判断字符串str是否为数字，\n",
    "\n",
    "\n",
    "\n",
    "e.g. :\n",
    "---\n",
    "\n",
    "1. 输入：“$3+5 * 8 -6$”   输出：37\n",
    "\n",
    "2. 输入：“$34+13*9 + 44-12/3$”  输出：191"
   ]
  },
  {
   "cell_type": "markdown",
   "metadata": {},
   "source": [
    "idea：\n",
    "为了正确地对表达式进行求值，采用两个栈来协同处理：一个用于保存操作数，另一个用于保存运算符。首先，对输入的表达式进行预处理，移除所有空格。接着，从左到右遍历表达式中的每个字符。当遇到数字时，将其完整提取出来并压入操作数栈；当遇到运算符时，依据运算符的优先级规则，决定是否需要先处理栈顶运算符，只有在当前运算符优先级更高时才将其压入栈中。遍历完成后，若运算符栈中仍有未处理的运算符，则依次弹出并结合操作数栈进行运算。最终，操作数栈中剩下的唯一元素即为整个表达式的计算结果。该方法确保了操作顺序的正确性，适用于基本的中缀表达式求值。\n"
   ]
  },
  {
   "cell_type": "code",
   "metadata": {
    "ExecuteTime": {
     "end_time": "2025-05-10T02:59:25.214802Z",
     "start_time": "2025-05-10T02:59:25.196865Z"
    }
   },
   "source": [
    "# add your idea here\n",
    "def evaluate_expression(s):\n",
    " \n",
    "    s = s.replace(' ', '')\n",
    "    num_stack = []  \n",
    "    op_stack = []   \n",
    "    i = 0\n",
    "    n = len(s)\n",
    "    \n",
    "    def priority(op):\n",
    "        if op in {'*', '/'}:\n",
    "            return 2\n",
    "        elif op in {'+', '-'}:\n",
    "            return 1\n",
    "        else:\n",
    "            return 0\n",
    "        \n",
    "    def process_op():\n",
    "        op = op_stack.pop()\n",
    "        b = num_stack.pop()\n",
    "        a = num_stack.pop()\n",
    "        if op == '+':\n",
    "            res = a + b\n",
    "        elif op == '-':\n",
    "            res = a - b\n",
    "        elif op == '*':\n",
    "            res = a * b\n",
    "        elif op == '/':\n",
    "            res = a // b  \n",
    "        num_stack.append(res)\n",
    "    \n",
    "    while i < n:\n",
    "        if s[i].isdigit():\n",
    "            num_str = ''\n",
    "            while i < n and s[i].isdigit():\n",
    "                num_str += s[i]\n",
    "                i += 1\n",
    "            num = int(num_str)\n",
    "            num_stack.append(num)\n",
    "        else:\n",
    "            current_op = s[i]\n",
    "            while op_stack and priority(current_op) <= priority(op_stack[-1]):\n",
    "                process_op()\n",
    "            op_stack.append(current_op)\n",
    "            i += 1\n",
    "    while op_stack:\n",
    "        process_op()\n",
    "    \n",
    "    return num_stack[0]\n",
    "\n",
    "print(evaluate_expression(\"3+5 * 8 -6\"))       \n",
    "print(evaluate_expression(\"34+13*9 + 44-12/3\"))\n",
    "\n",
    "# your algorithm time complexity is: O(n)"
   ],
   "outputs": [
    {
     "name": "stdout",
     "output_type": "stream",
     "text": [
      "37\n",
      "191\n"
     ]
    }
   ],
   "execution_count": 16
  },
  {
   "cell_type": "markdown",
   "metadata": {},
   "source": [
    "## 问题 4:  \n",
    "\n",
    "> 星球碰撞问题：现有n个星球，在同一条直线上运行，如数组A所示，元素的绝对值表示星球的质量，负数表示星球自右向左运动，正数表示星球自左向右运动，当两个星球相撞的时候，质量小的会消失，大的保持不变，**质量相同的两个星球碰撞后自右向左运动的星球消失，自左向右的星球保持不变**，假设所有星球的速度大小相同。\n",
    ">\n",
    "> $ A=[23,-8, 9, -3, -7, 9, -23, 22] $\n",
    "\n",
    "请设计一个算法模拟星球的运行情况，输出最终的星球存续情况（输出一个数组），分析算法设计思路，计算时间复杂度，并基于python编程实现。\n",
    "\n",
    "e.g.\n",
    "---\n",
    "1.  输入： A=[-3,-6,2,8, 5,-8,9,-2,1]， 输出：[-3, -6, 2, 8, 9, 1]\n",
    "\n",
    "2. 输入：A=[23,-8, 9, -3, -7, 9, -23, 22], 输出：[23, 22]\n",
    "\n"
   ]
  },
  {
   "metadata": {},
   "cell_type": "markdown",
   "source": [
    "idea：\n",
    "通过栈来模拟星球的运动和碰撞过程。遍历每个星球，将其依次入栈；只有当栈顶星球向右（正数）且当前星球向左（负数）时，才会发生碰撞，此时通过比较质量决定弹出哪一个——若栈顶更重则抛弃当前，若当前更重则弹出栈顶并继续比较，若等重则抛弃当前；当不再满足碰撞条件时，将当前星球压入栈中。遍历完成后，栈中剩余的元素即为所有存续的星球，且相对顺序与输入保持一致。\n",
    "\n"
   ]
  },
  {
   "metadata": {
    "ExecuteTime": {
     "end_time": "2025-05-10T09:48:02.731918Z",
     "start_time": "2025-05-10T09:48:02.727518Z"
    }
   },
   "cell_type": "code",
   "source": [
    "# add your idea here\n",
    "def asteroidCollision(A):\n",
    "\n",
    "    stk = []\n",
    "    for x in A:\n",
    "        alive = True\n",
    "        while alive and stk and stk[-1] > 0 and x < 0:\n",
    "            t, c = abs(stk[-1]), abs(x)\n",
    "            if t > c:\n",
    "                alive = False\n",
    "            elif t < c:\n",
    "                stk.pop()\n",
    "            else:\n",
    "                alive = False\n",
    "        if alive:\n",
    "            stk.append(x)\n",
    "    return stk\n",
    "\n",
    "\n",
    "print(asteroidCollision([-3,-6,2,8,5,-8,9,-2,1]))  \n",
    "print(asteroidCollision([23,-8,9,-3,-7,9,-23,22])) \n",
    "\n",
    "# your algorithm time complexity is: O(n)"
   ],
   "outputs": [
    {
     "name": "stdout",
     "output_type": "stream",
     "text": [
      "[-3, -6, 2, 8, 9, 1]\n",
      "[23, 22]\n"
     ]
    }
   ],
   "execution_count": 27
  },
  {
   "cell_type": "markdown",
   "metadata": {},
   "source": [
    "## 问题 5 \n",
    "\n",
    "> 给定一个无序数组nums=[9,-3,-10,0,9,7,33]，请建立一个二叉搜索树存储数组中的所有元素，之后删除二叉树中的元素“0”，再使用中序遍历输出二叉搜索树中的所有元素。\n",
    "\n",
    "使用python编程完成上述任务，并计算时间复杂度\n"
   ]
  },
  {
   "metadata": {},
   "cell_type": "markdown",
   "source": [
    "idea：\n",
    "首先，遍历数组中的每个元素，按照二叉搜索树的插入规则逐一构建树结构。接着，查找并删除目标节点，删除时根据节点的子节点情况（无子节点、单个子节点或两个子节点）分别进行相应的调整以保持BST性质。最后，对更新后的BST进行中序遍历，按照“左子树-根节点-右子树”的顺序依次访问各节点，从而得到一个升序排列的结果。\n"
   ]
  },
  {
   "cell_type": "code",
   "metadata": {
    "ExecuteTime": {
     "end_time": "2025-05-10T03:08:39.483237Z",
     "start_time": "2025-05-10T03:08:39.475060Z"
    }
   },
   "source": [
    "# add your idea here\n",
    "class TreeNode:\n",
    "    def __init__(self, val=0, left=None, right=None):\n",
    "        self.val = val\n",
    "        self.left = left\n",
    "        self.right = right\n",
    "\n",
    "def insert(root, val):\n",
    "    if not root:\n",
    "        return TreeNode(val)\n",
    "    if val < root.val:\n",
    "        root.left = insert(root.left, val)\n",
    "    else:\n",
    "        root.right = insert(root.right, val)\n",
    "    return root\n",
    "\n",
    "def delete_node(root, key):\n",
    "    if not root:\n",
    "        return None\n",
    "    if key < root.val:\n",
    "        root.left = delete_node(root.left, key)\n",
    "    elif key > root.val:\n",
    "        root.right = delete_node(root.right, key)\n",
    "    else:\n",
    "        if not root.left:\n",
    "            return root.right\n",
    "        elif not root.right:\n",
    "            return root.left\n",
    "        min_node = root.right\n",
    "        while min_node.left:\n",
    "            min_node = min_node.left\n",
    "        root.val = min_node.val\n",
    "        root.right = delete_node(root.right, min_node.val)\n",
    "    return root\n",
    "\n",
    "def inorder_traversal(root, result):\n",
    "    if root:\n",
    "        inorder_traversal(root.left, result)\n",
    "        result.append(root.val)\n",
    "        inorder_traversal(root.right, result)\n",
    "\n",
    "def main():\n",
    "    nums = [9, -3, -10, 0, 9, 7, 33]\n",
    "    root = None\n",
    "    for num in nums:\n",
    "        root = insert(root, num)\n",
    "    root = delete_node(root, 0)\n",
    "    result = []\n",
    "    inorder_traversal(root, result)\n",
    "    print(result)  \n",
    "\n",
    "if __name__ == \"__main__\":\n",
    "    main()\n",
    "\n",
    "# your algorithm time complexity is:O(n²)（最坏），平均O(n log n)"
   ],
   "outputs": [
    {
     "name": "stdout",
     "output_type": "stream",
     "text": [
      "[-10, -3, 7, 9, 9, 33]\n"
     ]
    }
   ],
   "execution_count": 17
  },
  {
   "cell_type": "markdown",
   "metadata": {},
   "source": [
    "## 问题 6  \n",
    "\n",
    "> 给定一个包含大写字母和小写字母的字符串 s ，返回 字符串包含的 **最长的回文子串的长度** 。请注意 区分大小写 。比如 \"Aa\" 不能当做一个回文字符串。\n",
    ">\n",
    "\n",
    "请设计一个算法解决上述问题，只需要输出最长回文子串的长度，分析算法设计思路，计算时间复杂度，并基于python编程实现\n",
    "\n",
    "e.g. 输入： s=\"adccaccd\"，  输出：7。 最长回文子串为：\"dccaccd\", 长度为7\n"
   ]
  },
  {
   "cell_type": "markdown",
   "metadata": {},
   "source": [
    "idea：\n",
    "为找到字符串中最长回文子串的长度，可以采用中心扩展法。该方法通过遍历字符串中的每一个字符，将其作为回文中心，分别考虑奇数长度和偶数长度两种情况，并从中心向两侧扩展，直到不再满足回文条件为止。在每次扩展过程中，记录当前回文子串的长度，并不断更新已找到的最大长度，最终即可得到最长回文子串的长度。该算法简洁高效，适用于大多数实际场景。\n"
   ]
  },
  {
   "cell_type": "code",
   "metadata": {
    "ExecuteTime": {
     "end_time": "2025-05-10T03:09:27.667714Z",
     "start_time": "2025-05-10T03:09:27.661736Z"
    }
   },
   "source": [
    "# add your idea here\n",
    "def longestPalindrome(s: str) -> int:\n",
    "    def expand(left: int, right: int) -> int:\n",
    "        while left >= 0 and right < len(s) and s[left] == s[right]:\n",
    "            left -= 1\n",
    "            right += 1\n",
    "        return right - left - 1  \n",
    "\n",
    "    if not s:\n",
    "        return 0\n",
    "    max_len = 0\n",
    "    for i in range(len(s)):\n",
    "        odd_len = expand(i, i)\n",
    "        even_len = expand(i, i + 1)\n",
    "        current_max = max(odd_len, even_len)\n",
    "        if current_max > max_len:\n",
    "            max_len = current_max\n",
    "    return max_len\n",
    "\n",
    "print(longestPalindrome(\"adccaccd\"))  \n",
    "\n",
    "# your algorithm time complexity is:O(n²)\n"
   ],
   "outputs": [
    {
     "name": "stdout",
     "output_type": "stream",
     "text": [
      "7\n"
     ]
    }
   ],
   "execution_count": 18
  },
  {
   "cell_type": "markdown",
   "metadata": {},
   "source": [
    "## 问题 7 \n",
    "\n",
    "> 沿一条长河流分散着n座房子。你可以把这条河想象成一条轴，房子是由它们在这条轴上的坐标按顺序排列的。你的公司想在河边的特定地点设置手机基站，这样每户人家都在距离基站4公里的范围内。输入可以看作为一个升序数组，数组元素的取值为大于等于0的正整数，你需要输出最小基站的数目，基站的位置。\n",
    "\n",
    "1. 给出一个时间复杂度为$O(n$) 的算法，使所使用的基站数量最小化，分析算法设计思路，使用python编程实现\n",
    "2. 证明1.中算法产生了最优解决方案。\n",
    "\n",
    "e.g. \n",
    "\n",
    "输入： [1, 5, 12, 33, 34,35]  输出：基站数目为3， 基站位置为[1，12，33]\n",
    "\n"
   ]
  },
  {
   "cell_type": "markdown",
   "metadata": {},
   "source": "idea：本问题可通过贪心算法高效解决，目标是用最少数量的基站覆盖所有房子。具体做法是：从最左侧尚未被覆盖的房子开始，将基站放置在该房子位置，使其覆盖范围为左右各4公里，即 [houses[i] - 4, houses[i] + 4]。接着跳过所有在该范围内的房子，直到遇到第一个超出当前基站覆盖范围的房子，再重复相同的操作。该策略在每一步都使基站覆盖尽可能多的房子，从而保证整体使用基站数量最少。"
  },
  {
   "cell_type": "code",
   "metadata": {
    "ExecuteTime": {
     "end_time": "2025-05-10T09:21:39.236641Z",
     "start_time": "2025-05-10T09:21:39.231180Z"
    }
   },
   "source": [
    "# add your idea here\n",
    "def min_base_stations(houses):\n",
    "    if not houses:\n",
    "        return 0, []\n",
    "    stations = []\n",
    "    i = 0\n",
    "    n = len(houses)\n",
    "    while i < n:\n",
    "        current = houses[i]\n",
    "        stations.append(current) \n",
    "        cover_range = current + 4 \n",
    "        while i < n and houses[i] <= cover_range:\n",
    "            i += 1\n",
    "    return len(stations), stations\n",
    "\n",
    "houses = [1, 5, 12, 33, 34, 35]\n",
    "count, positions = min_base_stations(houses)\n",
    "print(\"基站数目为\", count, \"，基站位置为\", positions)  \n",
    "\n",
    "# your algorithm time complexity is:O(n)"
   ],
   "outputs": [
    {
     "name": "stdout",
     "output_type": "stream",
     "text": [
      "基站数目为 3 ，基站位置为 [1, 12, 33]\n"
     ]
    }
   ],
   "execution_count": 22
  },
  {
   "metadata": {},
   "cell_type": "markdown",
   "source": "证明：每次选择当前未被覆盖的最左侧房子 houses[i]，并将基站放置在 houses[i] 处，使得该基站的覆盖范围右端达到 houses[i] + 4。这样可以覆盖所有在 [houses[i], houses[i] + 4] 范围内的后续房子，确保当前基站覆盖尽可能多的房子，从而减少后续需要的基站数量"
  },
  {
   "cell_type": "markdown",
   "metadata": {},
   "source": [
    "## 问题 8  \n",
    "\n",
    "> 给定由n个正整数组成的一个集合$S = \\{a_1, a_2，···，a_n\\}$和一个正整数W，设计一个算法确定是否存在S的一个子集 $K \\subseteq S$, 使K中所有数之和为 $W$, 如果存在返回“True”，否则返回“False”\n",
    "\n",
    "请设计一个时间复杂度为$O(nW)$动态规划算法，解决上述问题，分析算法的设计思路，并且基于python编程实现（不需要输出子集）。\n",
    "\n",
    "e.g. \n",
    "\n",
    "输入：S = {1,4,7,3,5}， W = 11，输出：True。   因为K可以是{4,7}。\n",
    "\n"
   ]
  },
  {
   "cell_type": "markdown",
   "metadata": {},
   "source": "idea：为解决子集和问题，可以采用动态规划的方法。首先定义状态：令dp[j]表示是否存在一个子集，其元素之和恰好为j。初始化时，设dp[0] = True，表示和为0的空子集始终存在，其余位置初始化为False。接着，对于数组中的每个元素a，从目标和W倒序遍历到a，对每个j执行状态转移：dp[j] |= dp[j - a]，表示若能构成和为j - a的子集，则也能构成和为j的子集。最终判断dp[W]是否为True，即可确定是否存在一个子集，其和为目标值。\n"
  },
  {
   "cell_type": "code",
   "metadata": {
    "ExecuteTime": {
     "end_time": "2025-05-10T09:53:28.115414Z",
     "start_time": "2025-05-10T09:53:28.110322Z"
    }
   },
   "source": [
    "# add your idea here\n",
    "def subset_sum(S, W):\n",
    "    dp = [False] * (W + 1)\n",
    "    dp[0] = True  \n",
    "    \n",
    "    for num in S:\n",
    "        for j in range(W, num - 1, -1):\n",
    "            if dp[j - num]:\n",
    "                dp[j] = True\n",
    "    return dp[W]\n",
    "\n",
    "\n",
    "S = [1, 4, 7, 3, 5]\n",
    "W = 11\n",
    "print(subset_sum(S, W))  \n",
    "\n",
    "# your algorithm time complexity is: O(nW)"
   ],
   "outputs": [
    {
     "name": "stdout",
     "output_type": "stream",
     "text": [
      "True\n"
     ]
    }
   ],
   "execution_count": 28
  },
  {
   "cell_type": "markdown",
   "metadata": {},
   "source": [
    "\n",
    "\n",
    "## 问题 9 \n",
    "\n",
    "> 给定一个n个物品的集合。物体的重量为$w_1, w_2，…、w_n$，物品的价值分别是$v_1、v_2、…v_n$。给你**两个**重量为 $c$ 的背包。如果你带了一个东西，它可以放在一个背包里，也可以放在另一个背包里，但不能同时放在两个背包里。所有权重和价值都是正整数。\n",
    "\n",
    "1. 设计一个时间复杂度为 $O(nc^2)$ 的动态规划算法，确定可以放入两个背包的物体的最大价值。分析算法设计思路，并基于python编程实现\n",
    "2. \\* 修改1中的算法，输出每个背包的内容（物品对应下标）。\n",
    "\n",
    "e.g.: \n",
    "\n",
    "输入 V=[1,3,2,5,8,7], W=[1,3,2,5,8,7], c=7, 输出：最大价值=14，背包装的物品为：[6] [4，3] （同一个背包中物品装入顺序对结果无影响）  \n"
   ]
  },
  {
   "cell_type": "markdown",
   "metadata": {},
   "source": "idea：对于两个背包的问题，使用动态规划来跟踪每个背包的容量使用情况，从而找到最大价值。状态定义为dp[j][k]，表示第一个背包使用容量j，第二个背包使用容量k时能获得的最大价值。通过遍历每个物品，并尝试将其放入任一背包或不放，更新状态以获得最大价值。"
  },
  {
   "cell_type": "code",
   "metadata": {
    "ExecuteTime": {
     "end_time": "2025-05-10T02:08:06.090679Z",
     "start_time": "2025-05-10T02:08:06.080689Z"
    }
   },
   "source": [
    "# add your idea here\n",
    "def two_backpacks_max_value(V, W, c):\n",
    "    n = len(V)\n",
    "    dp = [[-1 for _ in range(c+1)] for __ in range(c+1)]\n",
    "    dp[0][0] = 0 \n",
    "    \n",
    "    for i in range(n):\n",
    "        w, v = W[i], V[i]\n",
    "        curr_dp = [row.copy() for row in dp]\n",
    "        for j in range(c+1):\n",
    "            for k in range(c+1):\n",
    "                if dp[j][k] != -1:\n",
    "                    if j + w <= c:\n",
    "                        if curr_dp[j + w][k] < dp[j][k] + v:\n",
    "                            curr_dp[j + w][k] = dp[j][k] + v\n",
    "                    if k + w <= c:\n",
    "                        if curr_dp[j][k + w] < dp[j][k] + v:\n",
    "                            curr_dp[j][k + w] = dp[j][k] + v\n",
    "        dp = curr_dp\n",
    "\n",
    "    max_val = 0\n",
    "    for j in range(c+1):\n",
    "        for k in range(c+1):\n",
    "            if dp[j][k] > max_val:\n",
    "                max_val = dp[j][k]\n",
    "    return max_val\n",
    "\n",
    "V = [1, 3, 2, 5, 8, 7]\n",
    "W = [1, 3, 2, 5, 8, 7]\n",
    "c = 7\n",
    "print(two_backpacks_max_value(V, W, c))  \n",
    "\n",
    "# your algorithm time complexity is: O(nc^2)"
   ],
   "outputs": [
    {
     "name": "stdout",
     "output_type": "stream",
     "text": [
      "14\n"
     ]
    }
   ],
   "execution_count": 13
  },
  {
   "cell_type": "markdown",
   "metadata": {},
   "source": [
    "## 问题 10 \n",
    "\n",
    "> 给定两个字符串 $x[1..n]$ 和 $y[1..m]$，我们想通过以下操作将 $x$ 变换为 $y$ :\n",
    ">\n",
    "> **插入**：在 $x$ 中插入一个字符(在任何位置)；**删除**：从 $x$ 中删除一个字符(在任何位置)； **替换**：用另一个字符替换 $x$ 中的一个字符。\n",
    ">\n",
    "> 例如: $x = abcd$, $y = bcfe$，\n",
    ">\n",
    "> - 将 $x$ 转换为 $y$ 的一种可能方法是：1. 删除 $x$ 开头的 $a$, $x$变成 $bcd$； 2. 将 $x$ 中的字符 $d$ 替换为字符 $f$。$x$ 变成 $bcf$； 3. 在 $x$ 的末尾插入字符 $e$。$x$ 变成 $bcfe$。\n",
    ">\n",
    "> - 另一种可能的方法：1. 删除 $x$ 开头的 $a$,  $x$ 变成 $bcd$； 2. 在 $x$ 中字符 $d$ 之前插入字符 $f$。$x$ 变成 $bcfd$。3. 将 $x$ 中的字符 $d$ 替换为字符 $e$。$x$ 变成 $bcfe$。\n",
    "\n",
    "设计一个时间复杂度为 $O(mn)$ 的算法，返回将 $x$ 转换为 $y$ 所需的最少操作次数。分析算法设计思路，并基于python编程实现。\n"
   ]
  },
  {
   "cell_type": "markdown",
   "metadata": {},
   "source": "idea：为了求解将字符串x转换为y所需的最少操作次数，可以采用动态规划的方法。定义dp[i][j]为将x的前i个字符转换为y的前j个字符所需的最小操作次数。通过比较字符的相等性，结合插入、删除、替换操作的状态转移，逐步填充动态规划表，最终得到结果。"
  },
  {
   "cell_type": "code",
   "metadata": {
    "ExecuteTime": {
     "end_time": "2025-05-10T02:10:50.865699Z",
     "start_time": "2025-05-10T02:10:50.858621Z"
    }
   },
   "source": [
    "# add your idea here\n",
    "def min_edit_distance(x, y):\n",
    "    n = len(x)\n",
    "    m = len(y)\n",
    "    dp = [[0] * (m + 1) for _ in range(n + 1)]\n",
    "    \n",
    "    for i in range(n + 1):\n",
    "        dp[i][0] = i  \n",
    "    for j in range(m + 1):\n",
    "        dp[0][j] = j  \n",
    "    \n",
    "    for i in range(1, n + 1):\n",
    "        for j in range(1, m + 1):\n",
    "            if x[i - 1] == y[j - 1]:\n",
    "                dp[i][j] = dp[i - 1][j - 1]\n",
    "            else:\n",
    "\n",
    "                replace = dp[i - 1][j - 1] + 1\n",
    "                delete = dp[i - 1][j] + 1\n",
    "                insert = dp[i][j - 1] + 1\n",
    "                dp[i][j] = min(replace, delete, insert)\n",
    "    \n",
    "    return dp[n][m]\n",
    "\n",
    "x = \"abcd\"\n",
    "y = \"bcfe\"\n",
    "print(min_edit_distance(x, y)) \n",
    "\n",
    "# your algorithm time complexity is: O(mn)"
   ],
   "outputs": [
    {
     "name": "stdout",
     "output_type": "stream",
     "text": [
      "3\n"
     ]
    }
   ],
   "execution_count": 14
  }
 ],
 "metadata": {
  "language_info": {
   "name": "python"
  },
  "kernelspec": {
   "name": "python3",
   "language": "python",
   "display_name": "Python 3 (ipykernel)"
  }
 },
 "nbformat": 4,
 "nbformat_minor": 2
}
