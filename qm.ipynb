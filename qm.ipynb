{
 "cells": [
  {
   "cell_type": "code",
   "id": "initial_id",
   "metadata": {
    "collapsed": true,
    "ExecuteTime": {
     "end_time": "2025-05-14T01:39:51.256541Z",
     "start_time": "2025-05-14T01:39:51.246818Z"
    }
   },
   "source": [
    "# Q1\n",
    "def Minchajia(pricesA, pricesB):\n",
    "    min_jia=100000\n",
    "    for a in pricesA:\n",
    "        for b in pricesB:\n",
    "            chajia = abs(a - b)\n",
    "            if chajia < min_jia:\n",
    "                min_jia = chajia\n",
    "    return min_jia\n",
    "\n",
    "\n",
    "print(Minchajia([99, 150, 200], [210, 145, 95]))\n",
    "print(Minchajia([1, 3, 15, 11, 2], [23, 127, 235, 19, 8]))\n",
    "\n",
    "# 时间复杂度：O(m*n)\n",
    "\n"
   ],
   "outputs": [
    {
     "name": "stdout",
     "output_type": "stream",
     "text": [
      "4\n",
      "3\n"
     ]
    }
   ],
   "execution_count": 7
  },
  {
   "metadata": {
    "ExecuteTime": {
     "end_time": "2025-05-14T01:39:48.382279Z",
     "start_time": "2025-05-14T01:39:48.370930Z"
    }
   },
   "cell_type": "code",
   "source": [
    "# q2\n",
    "def max_profit(profits):\n",
    "    n = len(profits)\n",
    "    if n == 1:\n",
    "        return profits[0]\n",
    "    if n == 2:\n",
    "        return max(profits[0], profits[1])\n",
    "\n",
    "    xuan1= profits[0] + max_profit(profits[2:])\n",
    "    buxuan1 = max_profit(profits[1:])\n",
    "\n",
    "    return max(xuan1, buxuan1)\n",
    "\n",
    "print(max_profit([3, 5, 4, 1]))\n",
    "print(max_profit([2, 7, 9, 3, 1]))\n",
    "\n",
    "# 时间复杂度：O（n^2）\n",
    "\n",
    "\n",
    "\n"
   ],
   "id": "f1356aad78754edf",
   "outputs": [
    {
     "name": "stdout",
     "output_type": "stream",
     "text": [
      "7\n",
      "12\n"
     ]
    }
   ],
   "execution_count": 6
  }
 ],
 "metadata": {
  "kernelspec": {
   "display_name": "Python 3",
   "language": "python",
   "name": "python3"
  },
  "language_info": {
   "codemirror_mode": {
    "name": "ipython",
    "version": 2
   },
   "file_extension": ".py",
   "mimetype": "text/x-python",
   "name": "python",
   "nbconvert_exporter": "python",
   "pygments_lexer": "ipython2",
   "version": "2.7.6"
  }
 },
 "nbformat": 4,
 "nbformat_minor": 5
}
