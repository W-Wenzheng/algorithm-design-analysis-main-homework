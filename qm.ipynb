{
 "cells": [
  {
   "metadata": {},
   "cell_type": "markdown",
   "source": [
    "问题描述：你是一家电商平台的定价策略分析师，需要监控两个竞对平台（平台A和平台B)的同款商品价格。两个平台的价格分别记录在两个整数数组 priceSA 和 pricesB 中 （单位为元）。为了制定有竞争力的定价策略，你需要找到两个平台中价格最接近的一对商品（每个竟对平台各一个，并返回它们的最小绝对差价。请设计算法解决上述问题，分析算法时间复杂度，并编程实现。\n",
    "\n",
    "示例1\n",
    "\n",
    "输入：pricesA = [99，150, 200],pricesB = [210，145， 95] 输出：4\n",
    "解释：平台A的 99 元和平台B的 95 元的差值为4元，是所有组合中的最小值。\n",
    "\n",
    "示例2\n",
    "\n",
    "输入：pricesA=[1，3，15，11，2]，pricesB=[23，127，235，19，8]，输出：3，\n",
    "解释：最小商品对为(11, 8)"
   ],
   "id": "e913b55631409447"
  },
  {
   "cell_type": "code",
   "id": "initial_id",
   "metadata": {
    "collapsed": true,
    "ExecuteTime": {
     "end_time": "2025-05-14T01:39:51.256541Z",
     "start_time": "2025-05-14T01:39:51.246818Z"
    }
   },
   "source": [
    "# Q1\n",
    "def Minchajia(pricesA, pricesB):\n",
    "    min_jia=100000\n",
    "    for a in pricesA:\n",
    "        for b in pricesB:\n",
    "            chajia = abs(a - b)\n",
    "            if chajia < min_jia:\n",
    "                min_jia = chajia\n",
    "    return min_jia\n",
    "\n",
    "\n",
    "print(Minchajia([99, 150, 200], [210, 145, 95]))\n",
    "print(Minchajia([1, 3, 15, 11, 2], [23, 127, 235, 19, 8]))\n",
    "\n",
    "# 时间复杂度：O(m*n)\n",
    "\n"
   ],
   "outputs": [
    {
     "name": "stdout",
     "output_type": "stream",
     "text": [
      "4\n",
      "3\n"
     ]
    }
   ],
   "execution_count": 7
  },
  {
   "metadata": {},
   "cell_type": "markdown",
   "source": [
    "问题描述：你是一家物流公司的规划师，负责在一条直线上选择仓库的位置。每个候选位置都有一个预期收益 （用非负整数表示），但若选择相邻的位置建立仓库，会因运输路线重叠导致成本激增，因此不能同时选择相邻的位置。给定一个非负整数数组 profits，表示每个位置的收益，请计算在不选择相邻位置的前提下，能获得的最大总收益。请设计算法解决上述问题，分析算法时间复杂度，并编程实现。\n",
    "\n",
    "示例1:\n",
    "\n",
    "输入：profits=[3，5， 4， 1] 输出：7\n",
    "解释：选择第1个位置（收益3) 和第3个位置（收益4)，总收益为3+4：\n",
    "（注意：不能同时选择第1、3、4个位置，因为第3和 第4个位置相邻）\n",
    "\n",
    "示例2：\n",
    "\n",
    "输入：profits=[2，7，9， 3，1]输出：12\n",
    "解释：选择第1个位置(2)、第3个位置(9)和第5个位置(1)，总收益为2+9+1=12。"
   ],
   "id": "cebf3ccca08d5c60"
  },
  {
   "metadata": {
    "ExecuteTime": {
     "end_time": "2025-05-14T01:39:48.382279Z",
     "start_time": "2025-05-14T01:39:48.370930Z"
    }
   },
   "cell_type": "code",
   "source": [
    "# q2\n",
    "def max_profit(profits):\n",
    "    n = len(profits)\n",
    "    if n == 1:\n",
    "        return profits[0]\n",
    "    if n == 2:\n",
    "        return max(profits[0], profits[1])\n",
    "\n",
    "    xuan1= profits[0] + max_profit(profits[2:])\n",
    "    buxuan1 = max_profit(profits[1:])\n",
    "\n",
    "    return max(xuan1, buxuan1)\n",
    "\n",
    "print(max_profit([3, 5, 4, 1]))\n",
    "print(max_profit([2, 7, 9, 3, 1]))\n",
    "\n",
    "# 时间复杂度：O（n^2）\n",
    "\n",
    "\n",
    "\n"
   ],
   "id": "f1356aad78754edf",
   "outputs": [
    {
     "name": "stdout",
     "output_type": "stream",
     "text": [
      "7\n",
      "12\n"
     ]
    }
   ],
   "execution_count": 6
  }
 ],
 "metadata": {
  "kernelspec": {
   "display_name": "Python 3",
   "language": "python",
   "name": "python3"
  },
  "language_info": {
   "codemirror_mode": {
    "name": "ipython",
    "version": 2
   },
   "file_extension": ".py",
   "mimetype": "text/x-python",
   "name": "python",
   "nbconvert_exporter": "python",
   "pygments_lexer": "ipython2",
   "version": "2.7.6"
  }
 },
 "nbformat": 4,
 "nbformat_minor": 5
}
