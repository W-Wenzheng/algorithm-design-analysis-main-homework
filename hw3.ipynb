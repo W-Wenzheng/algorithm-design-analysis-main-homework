{
 "cells": [
  {
   "cell_type": "markdown",
   "metadata": {},
   "source": [
    "## algorithm design and anlysis-2025 spring  homework 3\n",
    "**Deadline**：2025.5.14\n",
    "\n",
    "**name**:\n",
    "\n",
    "\n",
    "note：\n",
    "---\n",
    "1. 带有\\*的题目，申请免上课的同学，必须完成，其他同学选作；\n",
    "2. 请独立完成，如求助了他人或者大模型，请著明，并且不可省略算法分析部分；\n",
    "4. 如若作答有雷同，全部取消成绩；\n",
    "3. 需要书面作答的题目，可以通过引用图片的形式添加，但是注意上传项目时包含所引用的图片的源文件；\n",
    "4. $log_n$ 默认表示$log_2{n}$;"
   ]
  },
  {
   "cell_type": "markdown",
   "metadata": {},
   "source": [
    "## 问题 1  \n",
    "\n",
    "请证明基于比较的排序算法计算复杂度下界为$\\Omega(nlogn)$"
   ]
  },
  {
   "cell_type": "markdown",
   "metadata": {},
   "source": [
    "you can refer a handwritten picture, pleas upload the picture in /fig/xxx.png\n",
    "answer：<div style=\"text-align:center;\"> <img src=\"./fig/hw3q1.jpg\" width=\"800\"/> </div>"
   ]
  },
  {
   "cell_type": "markdown",
   "metadata": {},
   "source": [
    "## 问题 2 \n",
    "\n",
    "构建二叉搜索树\n",
    "\n",
    "> 1. 给定一个数组 [48, 33, 49, 47, 42, 46, 32], 构建一个二叉搜索树存储这些数据，请**绘制**所构建的**二叉搜索树**（标明结点的值）。\n",
    "> 2. 从第1问的二叉搜索树中删除33，请**绘制**删除33后的**二叉搜索树**（标明结点的值）\n",
    "\n",
    "- 推荐使用graphviz包绘制树的结构"
   ]
  },
  {
   "cell_type": "markdown",
   "metadata": {},
   "source": [
    "you can refer a handwritten picture, pleas upload the picture in /fig/xxx.png\n",
    "answer：<div style=\"text-align:center;\"> <img src=\"./fig/hw3q2.jpg\" width=\"800\"/> </div>"
   ]
  },
  {
   "cell_type": "markdown",
   "metadata": {},
   "source": [
    "## 问题 3 \n",
    "\n",
    "> 下面是九门课程的开始和结束时间:\n",
    ">\n",
    "> [(9:00,12:30), (11:00,14:00), (13:00, 14:30), (9:00,10:30),(13:00, 14:30),(14:00,16:30), (15:00,16:30), (15:00,16:30), (9:00,10:30)]\n",
    ">\n",
    "> 请使用贪婪算法为这九门课分配教室，要求在同一天内安排这些课，并且每个教室同一时间只能安排一门课。\n",
    "\n",
    "**请问最少需要几间教室，罗列出每个教室安排的课程**"
   ]
  },
  {
   "cell_type": "markdown",
   "metadata": {},
   "source": "idea：首先将所有课程按开始时间升序排列，如果开始时间相同则按结束时间升序排列。这确保我们总是处理当前最早的课程。然后使用最小堆来跟踪每个教室的当前结束时间。每次处理课程时，选择结束时间最早的教室。如果该教室的结束时间不晚于当前课程的开始时间，则分配该课程到该教室，否则需要新的教室。最后记录每个教室分配的课程，并实时更新它们的结束时间。堆中存储各教室的结束时间和索引，以便快速获取最早结束的教室"
  },
  {
   "cell_type": "code",
   "metadata": {
    "vscode": {
     "languageId": "plaintext"
    },
    "ExecuteTime": {
     "end_time": "2025-05-12T00:44:17.620030Z",
     "start_time": "2025-05-12T00:44:17.610168Z"
    }
   },
   "source": [
    "# code：\n",
    "import heapq\n",
    "\n",
    "def min_classrooms(courses):\n",
    "    converted = []\n",
    "    for idx, (start, end) in enumerate(courses):\n",
    "        s_h, s_m = map(int, start.split(':'))\n",
    "        e_h, e_m = map(int, end.split(':'))\n",
    "        converted.append((s_h * 60 + s_m, e_h * 60 + e_m))\n",
    "    converted.sort(key=lambda x: (x[0], x[1]))\n",
    "    \n",
    "    classrooms = []  \n",
    "    heap = [] \n",
    "    \n",
    "    for course in converted:\n",
    "        start, end = course\n",
    "        allocated = False\n",
    "        while heap:\n",
    "            current_end, idx = heapq.heappop(heap)\n",
    "            if classrooms[idx]['end_time'] == current_end:\n",
    "                if current_end <= start:\n",
    "                    classrooms[idx]['courses'].append(course)\n",
    "                    classrooms[idx]['end_time'] = end\n",
    "                    heapq.heappush(heap, (end, idx))\n",
    "                    allocated = True\n",
    "                    break\n",
    "                else:\n",
    "                    heapq.heappush(heap, (current_end, idx))\n",
    "                    break\n",
    "        if not allocated:\n",
    "            new_class = {'courses': [course], 'end_time': end}\n",
    "            classrooms.append(new_class)\n",
    "            heapq.heappush(heap, (end, len(classrooms)-1))\n",
    "\n",
    "    result = []\n",
    "    for classroom in classrooms:\n",
    "        courses_list = []\n",
    "        for (s, e) in classroom['courses']:\n",
    "            start_h = s // 60\n",
    "            start_m = s % 60\n",
    "            end_h = e // 60\n",
    "            end_m = e % 60\n",
    "            courses_list.append(f\"({start_h:02d}:{start_m:02d},{end_h:02d}:{end_m:02d})\")\n",
    "        result.append(courses_list)\n",
    "    return result\n",
    "\n",
    "input_courses = [\n",
    "    (\"9:00\", \"12:30\"), (\"11:00\", \"14:00\"), (\"13:00\", \"14:30\"),\n",
    "    (\"9:00\", \"10:30\"), (\"13:00\", \"14:30\"), (\"14:00\", \"16:30\"),\n",
    "    (\"15:00\", \"16:30\"), (\"15:00\", \"16:30\"), (\"9:00\", \"10:30\")\n",
    "]\n",
    "\n",
    "classroom_assignments = min_classrooms(input_courses)\n",
    "\n",
    "print(f\"最少需要 {len(classroom_assignments)} 间教室，具体安排如下：\\n\")\n",
    "for i, courses in enumerate(classroom_assignments, 1):\n",
    "    print(f\"教室{i}:\")\n",
    "    for course in courses:\n",
    "        print(f\" {course}\")\n",
    "    print()\n"
   ],
   "outputs": [
    {
     "name": "stdout",
     "output_type": "stream",
     "text": [
      "最少需要 3 间教室，具体安排如下：\n",
      "\n",
      "教室1:\n",
      " (09:00,10:30)\n",
      " (11:00,14:00)\n",
      " (14:00,16:30)\n",
      "\n",
      "教室2:\n",
      " (09:00,10:30)\n",
      " (13:00,14:30)\n",
      " (15:00,16:30)\n",
      "\n",
      "教室3:\n",
      " (09:00,12:30)\n",
      " (13:00,14:30)\n",
      " (15:00,16:30)\n",
      "\n"
     ]
    }
   ],
   "execution_count": 1
  },
  {
   "cell_type": "markdown",
   "metadata": {},
   "source": [
    "## 问题 4 \n",
    "\n",
    "> 爬楼梯问题：假设爬楼梯时你每次只能爬一阶或者爬两阶，问爬上n阶的楼梯，你一共有多少种方法\n",
    "\n",
    "请设计算法完成该问题，分析算法设计思路，计算时间复杂度，并基于python编程实现"
   ]
  },
  {
   "cell_type": "markdown",
   "metadata": {},
   "source": "idea：到达第 n 阶的方法数等于从第 n-1 阶爬一步（方法数继承自 n-1）和从第 n-2 阶爬两步（方法数继承自 n-2）的总和，递推公式为 f(n) = f(n-1) + f(n-2)"
  },
  {
   "cell_type": "code",
   "metadata": {
    "ExecuteTime": {
     "end_time": "2025-05-12T01:14:26.832356Z",
     "start_time": "2025-05-12T01:14:26.828452Z"
    }
   },
   "source": [
    "# add your code here\n",
    "def climb_stairs(n: int) -> int:\n",
    "    if n <= 2:\n",
    "        return n\n",
    "    prev, curr = 1, 2\n",
    "    for _ in range(3, n + 1):\n",
    "        prev, curr = curr, prev + curr\n",
    "    return curr\n",
    "\n",
    "# 测试代码\n",
    "if __name__ == \"__main__\":\n",
    "    test_cases = [1, 2, 3, 4, 5]\n",
    "    for n in test_cases:\n",
    "        print(f\"n={n}时，方法数：{climb_stairs(n)}\")\n",
    "\n",
    "# your algorithm time complexity is: O(n)"
   ],
   "outputs": [
    {
     "name": "stdout",
     "output_type": "stream",
     "text": [
      "n=1时，方法数：1\n",
      "n=2时，方法数：2\n",
      "n=3时，方法数：3\n",
      "n=4时，方法数：5\n",
      "n=5时，方法数：8\n"
     ]
    }
   ],
   "execution_count": 2
  },
  {
   "cell_type": "markdown",
   "metadata": {},
   "source": [
    "## 问题 5 \n",
    "\n",
    "> 0-1背包问题：现在有4块大理石，每个大理石对应的重量和价值使用一个元组表示, 即（重量，价值），4块大理石的重量和价值为：[(5,10), (4,40), (6,30), (3, 50)], 假设你有一辆最大承重为9的小推车，请问使用这个小推车装大理石的最大价值为多少\n",
    "\n",
    "请设计一个算法解决该问题，分析算法设计思路，计算时间复杂度，并基于python编程实现"
   ]
  },
  {
   "cell_type": "markdown",
   "metadata": {},
   "source": "idea：0-1背包问题的核心是决策每个物品是否放入背包以最大化总价值。使用动态规划解决该问题，定义一维数组 dp[j] 表示承重为 j 时的最大价值。逆序遍历每个物品（重量 w，价值 v），从 max_weight 到 w 更新 dp[j] = max(dp[j], dp[j - w] + v)，确保每个物品仅被计算一次，最终 dp[max_weight] 即为最大价值。"
  },
  {
   "cell_type": "code",
   "metadata": {
    "ExecuteTime": {
     "end_time": "2025-05-12T01:20:10.301949Z",
     "start_time": "2025-05-12T01:20:10.297129Z"
    }
   },
   "source": [
    "# add your code here\n",
    "def knapsack(items, max_weight):\n",
    "    dp = [0] * (max_weight + 1)  \n",
    "    for weight, value in items:\n",
    "        for j in range(max_weight, weight - 1, -1):\n",
    "            dp[j] = max(dp[j], dp[j - weight] + value)\n",
    "    return dp[max_weight]\n",
    "\n",
    "items = [(5, 10), (4, 40), (6, 30), (3, 50)]\n",
    "max_weight = 9\n",
    "\n",
    "max_value = knapsack(items, max_weight)\n",
    "print(f\"最大价值为：{max_value}\")\n",
    "\n",
    "# your algorithm time complexity is:O(n * W)"
   ],
   "outputs": [
    {
     "name": "stdout",
     "output_type": "stream",
     "text": [
      "最大价值为：90\n"
     ]
    }
   ],
   "execution_count": 3
  },
  {
   "cell_type": "markdown",
   "metadata": {},
   "source": [
    "## 问题 6 \n",
    "给定 `n` 个非负整数表示每个宽度为 `1` 的柱子的高度图，计算按此排列的柱子，下雨之后能接多少雨水。\n",
    "\n",
    "\n",
    "\n",
    "<div style=\"text-align:center;width:800px;\"> <img alt=\"\" src=\"./fig/hw3q6.png\"> </div>\n",
    "\n",
    "请分析算法设计思路，计算时间复杂度，并基于python编程实现"
   ]
  },
  {
   "cell_type": "markdown",
   "metadata": {},
   "source": "idea：该问题可通过双指针法高效解决：使用两个指针分别从左右两端向中间移动，同时维护当前位置左侧和右侧的最大高度。每次比较左右高度，较小的一侧决定当前可能存储雨水的上限，计算该位置的可接水量后指针内移，最终累加所有位置的雨水量即为答案。\n"
  },
  {
   "cell_type": "code",
   "metadata": {
    "ExecuteTime": {
     "end_time": "2025-05-12T02:13:51.658640Z",
     "start_time": "2025-05-12T02:13:51.652994Z"
    }
   },
   "source": [
    "# add your code here\n",
    "def trap(height):\n",
    "    left, right = 0, len(height) - 1\n",
    "    left_max = right_max = 0\n",
    "    res = 0\n",
    "\n",
    "    while left < right:\n",
    "        if height[left] < height[right]:\n",
    "            left_max = max(left_max, height[left])\n",
    "            res += left_max - height[left]\n",
    "            left += 1\n",
    "        else:\n",
    "            right_max = max(right_max, height[right])\n",
    "            res += right_max - height[right]\n",
    "            right -= 1\n",
    "\n",
    "    return res\n",
    "\n",
    "\n",
    "print(trap([0,1,0,2,1,0,1,3,2,1,2,1]))  \n",
    "print(trap([4,2,0,3,2,5]))             \n",
    "\n",
    "# your algorithm time complexity is: O(n)"
   ],
   "outputs": [
    {
     "name": "stdout",
     "output_type": "stream",
     "text": [
      "6\n",
      "9\n"
     ]
    }
   ],
   "execution_count": 10
  },
  {
   "cell_type": "markdown",
   "metadata": {},
   "source": [
    "## 问题 7 \n",
    "\n",
    "**股票投资组合优化**： 假设你是一位投资者，想要在不同的股票中分配你的资金，以最大化你的投资回报。每只股票都有不同的预期收益率和风险。你的目标是选择一些股票，使得总投资金额不超过你的预算，并且预期收益最大化。\n",
    "\n",
    "在这个情况下，你可以将每只股票视为一个“物品”，其重量为投资金额，价值为预期收益率。然后，你可以使用分级背包问题的方法来选择部分股票，以便在预算内获得最大的预期收益。\n",
    "\n",
    "以下是一个简化的例子：\n",
    "\n",
    "假设你有以下三只股票可供选择：\n",
    "\n",
    "1. 股票 A：投资金额 5000 美元，预期收益率 10%\n",
    "2. 股票 B：投资金额 3000 美元，预期收益率 8%\n",
    "3. 股票 C：投资金额 2000 美元，预期收益率 12%\n",
    "\n",
    "请设计算法找到最优投资方案，分析算法设计思路，计算时间复杂度，并基于python编程实现"
   ]
  },
  {
   "cell_type": "markdown",
   "metadata": {},
   "source": [
    "idea：将每只股票的投资金额视为“重量”，其价值为 投资金额 × 收益率（即实际收益），问题转化为标准的0-1背包问题。定义 dp[j] 为预算为 j 时的最大收益，逆序遍历每只股票，更新 dp[j] = max(dp[j], dp[j - 投资金额] + 实际收益)，确保每只股票仅选一次，最终 dp[预算] 为最大总收益。\n",
    "\n"
   ]
  },
  {
   "cell_type": "code",
   "metadata": {
    "ExecuteTime": {
     "end_time": "2025-05-12T01:24:43.253052Z",
     "start_time": "2025-05-12T01:24:43.244390Z"
    }
   },
   "source": [
    "# add your code here\n",
    "def max_investment_return(stocks, budget):\n",
    "    items = [(amt, amt * rate) for amt, rate in stocks]\n",
    "    dp = [0] * (budget + 1)\n",
    "    for amt, profit in items:\n",
    "        for j in range(budget, amt - 1, -1):\n",
    "            dp[j] = max(dp[j], dp[j - amt] + profit)\n",
    "    return dp[budget]\n",
    "\n",
    "\n",
    "stocks = [\n",
    "    (5000, 0.10),  \n",
    "    (3000, 0.08),  \n",
    "    (2000, 0.12)  \n",
    "]\n",
    "budget = 8000  \n",
    "\n",
    "\n",
    "max_return = max_investment_return(stocks, budget)\n",
    "print(f\"最大收益为：{max_return} 美元\")  \n",
    "\n",
    "# your algorithm time complexity is:O(n * W)"
   ],
   "outputs": [
    {
     "name": "stdout",
     "output_type": "stream",
     "text": [
      "最大收益为：740.0 美元\n"
     ]
    }
   ],
   "execution_count": 4
  },
  {
   "cell_type": "markdown",
   "metadata": {},
   "source": [
    "## 问题 8\n",
    "\n",
    "给你二叉搜索树的根节点 root ，该树中的恰好两个节点的值被错误地交换。请在不改变其结构的情况下，恢复这棵树 。设计算法解决该问题，分析算法设计思路，计算时间复杂度，并基于python编程实现\n",
    "\n",
    "e.g.:\n",
    "---\n",
    "1.\n",
    "\n",
    "<div style=\"text-align:center;width:200px;\"> <img alt=\"\" src=\"./fig/hw3q9-1.jpg\"> </div>\n",
    "输入：root = [1,3,null,null,2]， 输出为：[3,1,null,null,2]， \n",
    "\n",
    "解释：3 不能是 1 的左孩子，因为 3 > 1 。交换 1 和 3 使二叉搜索树有效。\n",
    "\n",
    "2.\n",
    "\n",
    " <div style=\"text-align:center;width:200px;\"> <img alt=\"\" src=\"./fig/hw3q9-1.jpg\"> </div>\n",
    "输入： root=[3,1,4,null,null,2]， 输出为：[2,1,4,null,null,3]\n",
    "\n",
    "解释：2 不能在 3 的右子树中，因为 2 < 3 。交换 2 和 3 使二叉搜索树有效。"
   ]
  },
  {
   "cell_type": "markdown",
   "metadata": {},
   "source": "idea：二叉搜索树（BST）中序遍历应为严格递增序列。当两个节点被错误交换时，中序遍历会出现两个逆序对（或一个逆序对，若相邻节点交换）。通过中序遍历找到这两个逆序点，记录错误节点 first 和 second，最后交换它们的值即可恢复BST。\n"
  },
  {
   "cell_type": "code",
   "metadata": {
    "ExecuteTime": {
     "end_time": "2025-05-12T01:59:37.922148Z",
     "start_time": "2025-05-12T01:59:37.913156Z"
    }
   },
   "source": [
    "# add your code here\n",
    "class TreeNode:\n",
    "    def __init__(self, val=0, left=None, right=None):\n",
    "        self.val = val\n",
    "        self.left = left\n",
    "        self.right = right\n",
    "\n",
    "class Solution:\n",
    "    def recoverTree(self, root: TreeNode) -> None:\n",
    "        self.prev = None    \n",
    "        self.first = None   \n",
    "        self.second = None  \n",
    "        self.inorder(root)  \n",
    "        \n",
    "        self.first.val, self.second.val = self.second.val, self.first.val\n",
    "    \n",
    "    def inorder(self, node: TreeNode) -> None:\n",
    "        if not node:\n",
    "            return\n",
    "            self.inorder(node.left)\n",
    "        if self.prev and self.prev.val > node.val:\n",
    "            if not self.first:\n",
    "                self.first = self.prev  \n",
    "            self.second = node          \n",
    "        self.prev = node  \n",
    "        self.inorder(node.right)\n",
    "\n",
    "def build_tree(nodes):\n",
    "    if not nodes:\n",
    "        return None\n",
    "    root = TreeNode(nodes[0])\n",
    "    queue = [root]\n",
    "    index = 1\n",
    "    while queue and index < len(nodes):\n",
    "        node = queue.pop(0)\n",
    "        if nodes[index] is not None:\n",
    "            node.left = TreeNode(nodes[index])\n",
    "            queue.append(node.left)\n",
    "        index += 1\n",
    "        if index < len(nodes) and nodes[index] is not None:\n",
    "            node.right = TreeNode(nodes[index])\n",
    "            queue.append(node.right)\n",
    "        index += 1\n",
    "    return root\n",
    "\n",
    "def print_tree(root):\n",
    "    if not root:\n",
    "        return []\n",
    "    res = []\n",
    "    queue = [root]\n",
    "    while queue:\n",
    "        node = queue.pop(0)\n",
    "        if node:\n",
    "            res.append(node.val)\n",
    "            queue.append(node.left)\n",
    "            queue.append(node.right)\n",
    "        else:\n",
    "            res.append(None)\n",
    "    while res and res[-1] is None:\n",
    "        res.pop()\n",
    "    return res\n",
    "\n",
    "root1 = build_tree([1, 3, None, None, 2])\n",
    "sol = Solution()\n",
    "sol.recoverTree(root1)\n",
    "print(print_tree(root1)) \n",
    "\n",
    "# your algorithm time complexity is:O(n)"
   ],
   "outputs": [
    {
     "name": "stdout",
     "output_type": "stream",
     "text": [
      "[3, 1, None, None, 2]\n",
      "[2, 1, 4, None, None, 3]\n"
     ]
    }
   ],
   "execution_count": 5
  },
  {
   "cell_type": "markdown",
   "metadata": {},
   "source": [
    "## 问题 9  \n",
    "\n",
    "给你一个二叉树的根节点 root ，树中每个节点都存放有一个 0 到 9 之间的数字。每条从根节点到叶节点的路径都代表一个数字：\n",
    "\n",
    "> 例如，从根节点到叶节点的路径 1 -> 2 -> 3 表示数字 123 。\n",
    "\n",
    "设计一个算法计算从根节点到叶节点生成的所有数字之和 ，分析算法设计思路，计算时间复杂度，并基于python编程实现\n",
    "\n",
    "叶节点:是指没有子节点的节点。\n",
    "\n",
    "e.g.:\n",
    "---\n",
    "1.\n",
    "\n",
    " <div style=\"text-align:center;width:200px;\"> <img alt=\"figure\" src=\"./fig/hw3q10-1.jpg\"> </div>\n",
    "\n",
    " 输入：root = [1,2,3], 输出：25\n",
    "\n",
    "解释：从根到叶子节点路径 1->2 代表数字 12，1->3 代表数字 13，因此和为 12 + 13 = 25 。\n",
    "\n",
    "2.\n",
    "\n",
    " <div style=\"text-align:center;width:200px;\"> <img alt=\"figure\" src=\"./fig/hw3q10-2.jpg\"> </div>\n",
    "\n",
    " 输入：root = [4,9,0,5,1], 输出：1026\n",
    "\n",
    "解释：从根到叶子节点路径 4->9->5 代表数字 495，4->9->1 代表数字 491，4->0 代表数字 40。因此和为 495 + 491 + 40 = 1026 。"
   ]
  },
  {
   "cell_type": "markdown",
   "metadata": {},
   "source": "idea：从根节点出发，递归遍历所有路径，维护当前路径的数值（父路径值 ×10 + 当前节点值）。当到达叶子节点时，将当前路径值累加到总和中。"
  },
  {
   "cell_type": "code",
   "metadata": {
    "ExecuteTime": {
     "end_time": "2025-05-12T02:04:44.675477Z",
     "start_time": "2025-05-12T02:04:44.668951Z"
    }
   },
   "source": [
    "# add your code here\n",
    "class TreeNode:\n",
    "    def __init__(self, val=0, left=None, right=None):\n",
    "        self.val = val\n",
    "        self.left = left\n",
    "        self.right = right\n",
    "\n",
    "class Solution:\n",
    "    def sumNumbers(self, root: TreeNode) -> int:\n",
    "        def dfs(node, current_sum):\n",
    "            if not node:\n",
    "                return 0\n",
    "            current = current_sum * 10 + node.val\n",
    "            if not node.left and not node.right:\n",
    "                return current\n",
    "            return dfs(node.left, current) + dfs(node.right, current)\n",
    "        return dfs(root, 0)  \n",
    "\n",
    "def build_tree(nodes):\n",
    "    if not nodes:\n",
    "        return None\n",
    "    root = TreeNode(nodes[0])\n",
    "    queue = [root]\n",
    "    index = 1\n",
    "    while queue and index < len(nodes):\n",
    "        node = queue.pop(0)\n",
    "        if nodes[index] is not None:\n",
    "            node.left = TreeNode(nodes[index])\n",
    "            queue.append(node.left)\n",
    "        index += 1\n",
    "        if index < len(nodes) and nodes[index] is not None:\n",
    "            node.right = TreeNode(nodes[index])\n",
    "            queue.append(node.right)\n",
    "        index += 1\n",
    "    return root\n",
    "\n",
    "\n",
    "root1 = build_tree([1, 2, 3])\n",
    "print(Solution().sumNumbers(root1))  \n",
    "\n",
    "\n",
    "# your algorithm time complexity is:O(n)"
   ],
   "outputs": [
    {
     "name": "stdout",
     "output_type": "stream",
     "text": [
      "25\n"
     ]
    }
   ],
   "execution_count": 7
  },
  {
   "cell_type": "markdown",
   "metadata": {},
   "source": [
    "## 问题 10  \n",
    "\n",
    "给你一个二叉树的根节点 root ， 检查它是否轴对称。\n",
    "\n",
    "1. 分析算法设计思路，计算时间复杂度，并基于python编程实现\n",
    "2. \\* 设计使用递归和迭代两种方法解决这个问题，计算时间复杂度，并基于python编程实现\n",
    "\n",
    "e.g.:\n",
    "---\n",
    "1.\n",
    "\n",
    " <div style=\"text-align:center;width:200px;\"> <img alt=\"figure\" src=\"./fig/hw3q11-1.png\"> </div>\n",
    "\n",
    " 输入：root = [1,2,2,3,4,4,3]， 输出：true\n",
    "\n",
    "解释：二叉树 [1,2,2,3,4,4,3] 对称。\n",
    "\n",
    "2.\n",
    "\n",
    " <div style=\"text-align:center;width:200px;\"> <img alt=\"figure\" src=\"./fig/hw3q11-2.png\"> </div>\n",
    "\n",
    " 输入：root = [1,2,2,null,3,null,3]， 输出：false"
   ]
  },
  {
   "cell_type": "markdown",
   "metadata": {},
   "source": "idea：递归对称性检查：对称二叉树的左子树与右子树互为镜像。定义递归函数检查两节点是否满足：两节点值相等；左节点的左子树与右节点的右子树对称；左节点的右子树与右节点的左子树对称。 从根节点的左右子节点开始递归，确保整棵树对称。"
  },
  {
   "cell_type": "code",
   "metadata": {
    "ExecuteTime": {
     "end_time": "2025-05-12T02:08:34.209780Z",
     "start_time": "2025-05-12T02:08:34.202577Z"
    }
   },
   "source": [
    "# add your code here\n",
    "class TreeNode:\n",
    "    def __init__(self, val=0, left=None, right=None):\n",
    "        self.val = val\n",
    "        self.left = left\n",
    "        self.right = right\n",
    "\n",
    "class Solution:\n",
    "    def isSymmetric(self, root: TreeNode) -> bool:\n",
    "        if not root:\n",
    "            return True\n",
    "        return self.check(root.left, root.right)\n",
    "    \n",
    "    def check(self, left: TreeNode, right: TreeNode) -> bool:\n",
    "        if not left and not right:\n",
    "            return True\n",
    "        if not left or not right:\n",
    "            return False\n",
    "        if left.val != right.val:\n",
    "            return False\n",
    "        return self.check(left.left, right.right) and self.check(left.right, right.left)\n",
    "\n",
    "def build_tree(nodes):\n",
    "    if not nodes:\n",
    "        return None\n",
    "    root = TreeNode(nodes[0])\n",
    "    queue = [root]\n",
    "    index = 1\n",
    "    while queue and index < len(nodes):\n",
    "        node = queue.pop(0)\n",
    "        if index < len(nodes) and nodes[index] is not None:\n",
    "            node.left = TreeNode(nodes[index])\n",
    "            queue.append(node.left)\n",
    "        index += 1\n",
    "        if index < len(nodes) and nodes[index] is not None:\n",
    "            node.right = TreeNode(nodes[index])\n",
    "            queue.append(node.right)\n",
    "        index += 1\n",
    "    return root\n",
    "\n",
    "\n",
    "root1 = build_tree([1, 2, 2, 3, 4, 4, 3])\n",
    "print(Solution().isSymmetric(root1)) \n",
    "\n",
    "\n",
    "# your algorithm time complexity is:O(n)"
   ],
   "outputs": [
    {
     "name": "stdout",
     "output_type": "stream",
     "text": [
      "True\n"
     ]
    }
   ],
   "execution_count": 9
  },
  {
   "cell_type": "markdown",
   "metadata": {},
   "source": [
    "## 问题 11  \n",
    "\n",
    "给你一个由 '1'（陆地）和 '0'（水）组成的的二维网格，请你计算网格中岛屿的数量。岛屿总是被水包围，并且每座岛屿只能由水平方向和/或竖直方向上相邻的陆地连接形成。\n",
    "\n",
    "此外，你可以假设该网格的四条边均被水包围。\n",
    "\n",
    "分析算法设计思路，计算时间复杂度，并基于python编程实现\n",
    "\n",
    "e.g.:\n",
    "---\n",
    "1.\n",
    "输入：grid = [\n",
    "\n",
    "    [\"1\",\"1\",\"1\",\"1\",\"0\"],\n",
    "\n",
    "    [\"1\",\"1\",\"0\",\"1\",\"0\"], \n",
    "\n",
    "    [\"1\",\"1\",\"0\",\"0\",\"0\"], \n",
    "\n",
    "    [\"0\",\"0\",\"0\",\"0\",\"0\"]  \n",
    "\n",
    "]\n",
    "\n",
    "输出：1\n",
    "\n",
    "2.\n",
    "输入：grid = [\n",
    "\n",
    "    [\"1\",\"1\",\"0\",\"0\",\"0\"],\n",
    "\n",
    "    [\"1\",\"1\",\"0\",\"0\",\"0\"],\n",
    "\n",
    "    [\"0\",\"0\",\"1\",\"0\",\"0\"],\n",
    "\n",
    "    [\"0\",\"0\",\"0\",\"1\",\"1\"]\n",
    "\n",
    "]\n",
    "\n",
    "输出：3"
   ]
  },
  {
   "cell_type": "markdown",
   "metadata": {},
   "source": "idea:使用深度优先搜索（DFS）：遍历网格，遇到陆地（'1'）时，通过DFS将与其相连的所有陆地标记为已访问（置为'0'），并计数岛屿数量。"
  },
  {
   "cell_type": "code",
   "execution_count": null,
   "metadata": {},
   "outputs": [],
   "source": [
    "# add your code here\n",
    "from typing import List\n",
    "\n",
    "class Solution:\n",
    "    def numIslands(self, grid: List[List[str]]) -> int:\n",
    "        if not grid:\n",
    "            return 0\n",
    "        count = 0\n",
    "        rows, cols = len(grid), len(grid[0])\n",
    "        \n",
    "        def dfs(i: int, j: int):\n",
    "            if i < 0 or j < 0 or i >= rows or j >= cols or grid[i][j] != '1':\n",
    "                return\n",
    "            grid[i][j] = '0' \n",
    "            dfs(i + 1, j)\n",
    "            dfs(i - 1, j)\n",
    "            dfs(i, j + 1)\n",
    "            dfs(i, j - 1)\n",
    "        \n",
    "        for i in range(rows):\n",
    "            for j in range(cols):\n",
    "                if grid[i][j] == '1':\n",
    "                    dfs(i, j)\n",
    "                    count += 1\n",
    "        return count\n",
    "\n",
    "grid1 = [\n",
    "    [\"1\",\"1\",\"1\",\"1\",\"0\"],\n",
    "    [\"1\",\"1\",\"0\",\"1\",\"0\"],\n",
    "    [\"1\",\"1\",\"0\",\"0\",\"0\"],\n",
    "    [\"0\",\"0\",\"0\",\"0\",\"0\"]\n",
    "]\n",
    "print(Solution().numIslands(grid1))\n",
    "\n",
    "grid2 = [\n",
    "    [\"1\",\"1\",\"0\",\"0\",\"0\"],\n",
    "    [\"1\",\"1\",\"0\",\"0\",\"0\"],\n",
    "    [\"0\",\"0\",\"1\",\"0\",\"0\"],\n",
    "    [\"0\",\"0\",\"0\",\"1\",\"1\"]\n",
    "]\n",
    "print(Solution().numIslands(grid2))  \n",
    "\n",
    "# your algorithm time complexity is:O(m×n)"
   ]
  }
 ],
 "metadata": {
  "language_info": {
   "name": "python"
  },
  "kernelspec": {
   "name": "python3",
   "language": "python",
   "display_name": "Python 3 (ipykernel)"
  }
 },
 "nbformat": 4,
 "nbformat_minor": 2
}
